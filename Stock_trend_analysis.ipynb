{
 "cells": [
  {
   "cell_type": "markdown",
   "metadata": {
    "toc": true
   },
   "source": [
    "<h1>Table of Contents<span class=\"tocSkip\"></span></h1>\n",
    "<div class=\"toc\"><ul class=\"toc-item\"></ul></div>"
   ]
  },
  {
   "cell_type": "markdown",
   "metadata": {
    "colab_type": "text",
    "id": "view-in-github"
   },
   "source": [
    "<a href=\"https://colab.research.google.com/github/vignesh1999/Stock-trend-analysis/blob/master/Stock_trend_analysis.ipynb\" target=\"_parent\"><img src=\"https://colab.research.google.com/assets/colab-badge.svg\" alt=\"Open In Colab\"/></a>"
   ]
  },
  {
   "cell_type": "markdown",
   "metadata": {
    "colab_type": "text",
    "id": "RhuGWv4lydWr"
   },
   "source": [
    "#Stock Trend Analysis\n",
    "Trend analysis is a technique used in technical analysis that attempts to predict the future stock price movements based on recently observed trend data. Trend analysis is based on the idea that what has happened in the past gives traders an idea of what will happen in the future.\n",
    "\n",
    "In this trnd analysis the main focus will be on the telecom industry. The stocks which are taken from the telecm industry are Bharati Airtel, Vodafone Idea Ltd. and Tata communication. \n",
    "\n",
    "I wanted to take jio but since its not listed in the stock market, lets analyse whether jio is still disrupting the telecom industry."
   ]
  },
  {
   "cell_type": "markdown",
   "metadata": {
    "colab_type": "text",
    "id": "isWSGdbc3rvU"
   },
   "source": [
    "the data collected is from 25/6/18 to 25/6/19 i.e. 1 year data."
   ]
  },
  {
   "cell_type": "code",
   "execution_count": 0,
   "metadata": {
    "colab": {},
    "colab_type": "code",
    "id": "4cF6MAALa27F"
   },
   "outputs": [],
   "source": [
    "import numpy as np\n",
    "import pandas as pd"
   ]
  },
  {
   "cell_type": "markdown",
   "metadata": {
    "colab_type": "text",
    "id": "qckG_7880-tV"
   },
   "source": [
    "##Bharati Airtel\n",
    "Bharti Airtel Limited also known as Airtel is an Indian global telecommunications services company based in Delhi, India. It operates in 18 countries across South Asia and Africa, and also in the Channel Islands. Airtel provides GSM, 3G, 4G LTE, 4G+ mobile services, fixed line broadband and voice services depending upon the country of operation. Airtel had also rolled out its VoLTE technology across all Indian telecom circles except Jammu and Kashmir and Andaman and is likely to launch in these circles soon. It is the third largest mobile network operator in India and the second largest mobile network operator in the world with over 293.79 million subscribers.Airtel was named India's second most valuable brand in the first ever Brandz ranking by Millward Brown and WPP plc."
   ]
  },
  {
   "cell_type": "code",
   "execution_count": 0,
   "metadata": {
    "colab": {},
    "colab_type": "code",
    "id": "Yc-hLavEa5uY"
   },
   "outputs": [],
   "source": [
    "air = pd.read_csv('../content/sample_data/BHARTIARTL.NS(1).csv')"
   ]
  },
  {
   "cell_type": "code",
   "execution_count": 5,
   "metadata": {
    "colab": {
     "base_uri": "https://localhost:8080/",
     "height": 206
    },
    "colab_type": "code",
    "id": "zMmDgadhbcHq",
    "outputId": "5770d9e9-d2ba-42f7-93ce-982e4e8def84"
   },
   "outputs": [
    {
     "data": {
      "text/html": [
       "<div>\n",
       "<style scoped>\n",
       "    .dataframe tbody tr th:only-of-type {\n",
       "        vertical-align: middle;\n",
       "    }\n",
       "\n",
       "    .dataframe tbody tr th {\n",
       "        vertical-align: top;\n",
       "    }\n",
       "\n",
       "    .dataframe thead th {\n",
       "        text-align: right;\n",
       "    }\n",
       "</style>\n",
       "<table border=\"1\" class=\"dataframe\">\n",
       "  <thead>\n",
       "    <tr style=\"text-align: right;\">\n",
       "      <th></th>\n",
       "      <th>Date</th>\n",
       "      <th>Open</th>\n",
       "      <th>High</th>\n",
       "      <th>Low</th>\n",
       "      <th>Close</th>\n",
       "      <th>Adj Close</th>\n",
       "      <th>Volume</th>\n",
       "    </tr>\n",
       "  </thead>\n",
       "  <tbody>\n",
       "    <tr>\n",
       "      <th>0</th>\n",
       "      <td>2018-06-25</td>\n",
       "      <td>NaN</td>\n",
       "      <td>NaN</td>\n",
       "      <td>NaN</td>\n",
       "      <td>NaN</td>\n",
       "      <td>NaN</td>\n",
       "      <td>NaN</td>\n",
       "    </tr>\n",
       "    <tr>\n",
       "      <th>1</th>\n",
       "      <td>2018-06-26</td>\n",
       "      <td>343.398987</td>\n",
       "      <td>351.433014</td>\n",
       "      <td>342.664001</td>\n",
       "      <td>349.091003</td>\n",
       "      <td>343.494446</td>\n",
       "      <td>4703702.0</td>\n",
       "    </tr>\n",
       "    <tr>\n",
       "      <th>2</th>\n",
       "      <td>2018-06-27</td>\n",
       "      <td>350.056000</td>\n",
       "      <td>350.330994</td>\n",
       "      <td>342.571991</td>\n",
       "      <td>344.914001</td>\n",
       "      <td>339.384399</td>\n",
       "      <td>3716277.0</td>\n",
       "    </tr>\n",
       "    <tr>\n",
       "      <th>3</th>\n",
       "      <td>2018-06-28</td>\n",
       "      <td>343.122986</td>\n",
       "      <td>350.192993</td>\n",
       "      <td>338.394989</td>\n",
       "      <td>347.026001</td>\n",
       "      <td>341.462555</td>\n",
       "      <td>6379019.0</td>\n",
       "    </tr>\n",
       "    <tr>\n",
       "      <th>4</th>\n",
       "      <td>2018-06-29</td>\n",
       "      <td>344.592010</td>\n",
       "      <td>351.937988</td>\n",
       "      <td>344.592010</td>\n",
       "      <td>350.697998</td>\n",
       "      <td>345.075684</td>\n",
       "      <td>3749975.0</td>\n",
       "    </tr>\n",
       "  </tbody>\n",
       "</table>\n",
       "</div>"
      ],
      "text/plain": [
       "         Date        Open        High  ...       Close   Adj Close     Volume\n",
       "0  2018-06-25         NaN         NaN  ...         NaN         NaN        NaN\n",
       "1  2018-06-26  343.398987  351.433014  ...  349.091003  343.494446  4703702.0\n",
       "2  2018-06-27  350.056000  350.330994  ...  344.914001  339.384399  3716277.0\n",
       "3  2018-06-28  343.122986  350.192993  ...  347.026001  341.462555  6379019.0\n",
       "4  2018-06-29  344.592010  351.937988  ...  350.697998  345.075684  3749975.0\n",
       "\n",
       "[5 rows x 7 columns]"
      ]
     },
     "execution_count": 5,
     "metadata": {
      "tags": []
     },
     "output_type": "execute_result"
    }
   ],
   "source": [
    "air.head()"
   ]
  },
  {
   "cell_type": "markdown",
   "metadata": {
    "colab_type": "text",
    "id": "qt0kUZXe4h8Q"
   },
   "source": [
    "###Column info:\n",
    "\n",
    "*date*: The date on which the price of stock was recorded.\n",
    "\n",
    "---\n",
    "\n",
    "*Open*: The price with which the stock opened on that date.\n",
    "\n",
    "---\n",
    "\n",
    "*High*: The highest price reacheed by the stock on that date.\n",
    "\n",
    "---\n",
    "\n",
    "*Low*: The lowest price reached by the stock on that date.\n",
    "\n",
    "---\n",
    "\n",
    "*Close*: The closing price of the stock.\n",
    "\n",
    "---\n",
    "\n",
    "*Adj Close*: The adjusted closing price shows the stock's value after posting a dividend.\n",
    "\n",
    "---\n",
    "\n",
    "*Volume*: Average volume of the stock on that day."
   ]
  },
  {
   "cell_type": "markdown",
   "metadata": {
    "colab_type": "text",
    "id": "S9Za0hKi5y8-"
   },
   "source": [
    "###data info\n"
   ]
  },
  {
   "cell_type": "code",
   "execution_count": 6,
   "metadata": {
    "colab": {
     "base_uri": "https://localhost:8080/",
     "height": 35
    },
    "colab_type": "code",
    "id": "K55qjHkR58R2",
    "outputId": "56b07e2c-3405-4e4d-ae4e-38213ad45d43"
   },
   "outputs": [
    {
     "data": {
      "text/plain": [
       "(244, 7)"
      ]
     },
     "execution_count": 6,
     "metadata": {
      "tags": []
     },
     "output_type": "execute_result"
    }
   ],
   "source": [
    "air.shape"
   ]
  },
  {
   "cell_type": "markdown",
   "metadata": {
    "colab_type": "text",
    "id": "LMA53mm-6dBG"
   },
   "source": [
    "The data consists of 244 rows and 7 columns."
   ]
  },
  {
   "cell_type": "code",
   "execution_count": 7,
   "metadata": {
    "colab": {
     "base_uri": "https://localhost:8080/",
     "height": 300
    },
    "colab_type": "code",
    "id": "Zl5UIaIo6nhB",
    "outputId": "e268b1ec-bec1-4ef0-d53c-3c296d243645"
   },
   "outputs": [
    {
     "data": {
      "text/html": [
       "<div>\n",
       "<style scoped>\n",
       "    .dataframe tbody tr th:only-of-type {\n",
       "        vertical-align: middle;\n",
       "    }\n",
       "\n",
       "    .dataframe tbody tr th {\n",
       "        vertical-align: top;\n",
       "    }\n",
       "\n",
       "    .dataframe thead th {\n",
       "        text-align: right;\n",
       "    }\n",
       "</style>\n",
       "<table border=\"1\" class=\"dataframe\">\n",
       "  <thead>\n",
       "    <tr style=\"text-align: right;\">\n",
       "      <th></th>\n",
       "      <th>Open</th>\n",
       "      <th>High</th>\n",
       "      <th>Low</th>\n",
       "      <th>Close</th>\n",
       "      <th>Adj Close</th>\n",
       "      <th>Volume</th>\n",
       "    </tr>\n",
       "  </thead>\n",
       "  <tbody>\n",
       "    <tr>\n",
       "      <th>count</th>\n",
       "      <td>243.000000</td>\n",
       "      <td>243.000000</td>\n",
       "      <td>243.000000</td>\n",
       "      <td>243.000000</td>\n",
       "      <td>243.000000</td>\n",
       "      <td>2.430000e+02</td>\n",
       "    </tr>\n",
       "    <tr>\n",
       "      <th>mean</th>\n",
       "      <td>312.404868</td>\n",
       "      <td>317.757391</td>\n",
       "      <td>306.739041</td>\n",
       "      <td>312.279317</td>\n",
       "      <td>310.968394</td>\n",
       "      <td>7.040174e+06</td>\n",
       "    </tr>\n",
       "    <tr>\n",
       "      <th>std</th>\n",
       "      <td>28.363494</td>\n",
       "      <td>28.249488</td>\n",
       "      <td>28.310166</td>\n",
       "      <td>28.341847</td>\n",
       "      <td>27.725082</td>\n",
       "      <td>4.206436e+06</td>\n",
       "    </tr>\n",
       "    <tr>\n",
       "      <th>min</th>\n",
       "      <td>259.890015</td>\n",
       "      <td>266.272003</td>\n",
       "      <td>254.197998</td>\n",
       "      <td>262.002014</td>\n",
       "      <td>259.640259</td>\n",
       "      <td>3.013600e+05</td>\n",
       "    </tr>\n",
       "    <tr>\n",
       "      <th>25%</th>\n",
       "      <td>284.956513</td>\n",
       "      <td>290.328003</td>\n",
       "      <td>280.411499</td>\n",
       "      <td>285.828995</td>\n",
       "      <td>285.828995</td>\n",
       "      <td>4.296227e+06</td>\n",
       "    </tr>\n",
       "    <tr>\n",
       "      <th>50%</th>\n",
       "      <td>313.742004</td>\n",
       "      <td>319.066986</td>\n",
       "      <td>305.937012</td>\n",
       "      <td>312.181000</td>\n",
       "      <td>310.114990</td>\n",
       "      <td>5.994112e+06</td>\n",
       "    </tr>\n",
       "    <tr>\n",
       "      <th>75%</th>\n",
       "      <td>339.488006</td>\n",
       "      <td>343.352997</td>\n",
       "      <td>333.345001</td>\n",
       "      <td>338.780991</td>\n",
       "      <td>336.094772</td>\n",
       "      <td>8.554208e+06</td>\n",
       "    </tr>\n",
       "    <tr>\n",
       "      <th>max</th>\n",
       "      <td>363.000000</td>\n",
       "      <td>366.950012</td>\n",
       "      <td>358.250000</td>\n",
       "      <td>363.750000</td>\n",
       "      <td>363.750000</td>\n",
       "      <td>2.951592e+07</td>\n",
       "    </tr>\n",
       "  </tbody>\n",
       "</table>\n",
       "</div>"
      ],
      "text/plain": [
       "             Open        High         Low       Close   Adj Close        Volume\n",
       "count  243.000000  243.000000  243.000000  243.000000  243.000000  2.430000e+02\n",
       "mean   312.404868  317.757391  306.739041  312.279317  310.968394  7.040174e+06\n",
       "std     28.363494   28.249488   28.310166   28.341847   27.725082  4.206436e+06\n",
       "min    259.890015  266.272003  254.197998  262.002014  259.640259  3.013600e+05\n",
       "25%    284.956513  290.328003  280.411499  285.828995  285.828995  4.296227e+06\n",
       "50%    313.742004  319.066986  305.937012  312.181000  310.114990  5.994112e+06\n",
       "75%    339.488006  343.352997  333.345001  338.780991  336.094772  8.554208e+06\n",
       "max    363.000000  366.950012  358.250000  363.750000  363.750000  2.951592e+07"
      ]
     },
     "execution_count": 7,
     "metadata": {
      "tags": []
     },
     "output_type": "execute_result"
    }
   ],
   "source": [
    "air.describe()"
   ]
  },
  {
   "cell_type": "markdown",
   "metadata": {
    "colab_type": "text",
    "id": "Kn2keQzk64Mf"
   },
   "source": [
    "###data quality\n",
    "let us check how many null values are present in the dataset."
   ]
  },
  {
   "cell_type": "code",
   "execution_count": 8,
   "metadata": {
    "colab": {
     "base_uri": "https://localhost:8080/",
     "height": 165
    },
    "colab_type": "code",
    "id": "1ABcpveibpCg",
    "outputId": "e660e878-e991-4a92-9602-7be1bce3f256"
   },
   "outputs": [
    {
     "data": {
      "text/plain": [
       "Date         0\n",
       "Open         1\n",
       "High         1\n",
       "Low          1\n",
       "Close        1\n",
       "Adj Close    1\n",
       "Volume       1\n",
       "dtype: int64"
      ]
     },
     "execution_count": 8,
     "metadata": {
      "tags": []
     },
     "output_type": "execute_result"
    }
   ],
   "source": [
    "air.isnull().sum()"
   ]
  },
  {
   "cell_type": "markdown",
   "metadata": {
    "colab_type": "text",
    "id": "WeJvKZez7DU0"
   },
   "source": [
    "there is only one data which is missing which is because of the fact that it doesnt come in the one year range of the dataset recorded."
   ]
  },
  {
   "cell_type": "code",
   "execution_count": 9,
   "metadata": {
    "colab": {
     "base_uri": "https://localhost:8080/",
     "height": 165
    },
    "colab_type": "code",
    "id": "VlPUsX9bbslZ",
    "outputId": "e30fbb82-5712-462c-fa12-d5ded7ce4912"
   },
   "outputs": [
    {
     "data": {
      "text/plain": [
       "Date          object\n",
       "Open         float64\n",
       "High         float64\n",
       "Low          float64\n",
       "Close        float64\n",
       "Adj Close    float64\n",
       "Volume       float64\n",
       "dtype: object"
      ]
     },
     "execution_count": 9,
     "metadata": {
      "tags": []
     },
     "output_type": "execute_result"
    }
   ],
   "source": [
    "air.dtypes"
   ]
  },
  {
   "cell_type": "markdown",
   "metadata": {
    "colab_type": "text",
    "id": "wOIh_FJ87QFG"
   },
   "source": [
    "only date is object datatype and the other columns are of float datatype."
   ]
  },
  {
   "cell_type": "markdown",
   "metadata": {
    "colab_type": "text",
    "id": "9fv_zSst8zIE"
   },
   "source": [
    "###sorting the values \n",
    "The values are sorted by date."
   ]
  },
  {
   "cell_type": "code",
   "execution_count": 10,
   "metadata": {
    "colab": {
     "base_uri": "https://localhost:8080/",
     "height": 1000
    },
    "colab_type": "code",
    "id": "sVurTH8FbxgF",
    "outputId": "0dbd2463-77b8-4d1a-9881-3abb4a18a558"
   },
   "outputs": [
    {
     "data": {
      "text/html": [
       "<div>\n",
       "<style scoped>\n",
       "    .dataframe tbody tr th:only-of-type {\n",
       "        vertical-align: middle;\n",
       "    }\n",
       "\n",
       "    .dataframe tbody tr th {\n",
       "        vertical-align: top;\n",
       "    }\n",
       "\n",
       "    .dataframe thead th {\n",
       "        text-align: right;\n",
       "    }\n",
       "</style>\n",
       "<table border=\"1\" class=\"dataframe\">\n",
       "  <thead>\n",
       "    <tr style=\"text-align: right;\">\n",
       "      <th></th>\n",
       "      <th>Date</th>\n",
       "      <th>Open</th>\n",
       "      <th>High</th>\n",
       "      <th>Low</th>\n",
       "      <th>Close</th>\n",
       "      <th>Adj Close</th>\n",
       "      <th>Volume</th>\n",
       "    </tr>\n",
       "  </thead>\n",
       "  <tbody>\n",
       "    <tr>\n",
       "      <th>243</th>\n",
       "      <td>2019-06-25</td>\n",
       "      <td>345.450012</td>\n",
       "      <td>352.000000</td>\n",
       "      <td>344.549988</td>\n",
       "      <td>348.600006</td>\n",
       "      <td>348.600006</td>\n",
       "      <td>2796305.0</td>\n",
       "    </tr>\n",
       "    <tr>\n",
       "      <th>242</th>\n",
       "      <td>2019-06-24</td>\n",
       "      <td>345.149994</td>\n",
       "      <td>348.549988</td>\n",
       "      <td>343.500000</td>\n",
       "      <td>345.100006</td>\n",
       "      <td>345.100006</td>\n",
       "      <td>3249667.0</td>\n",
       "    </tr>\n",
       "    <tr>\n",
       "      <th>241</th>\n",
       "      <td>2019-06-21</td>\n",
       "      <td>347.500000</td>\n",
       "      <td>349.899994</td>\n",
       "      <td>342.700012</td>\n",
       "      <td>343.799988</td>\n",
       "      <td>343.799988</td>\n",
       "      <td>9584254.0</td>\n",
       "    </tr>\n",
       "    <tr>\n",
       "      <th>240</th>\n",
       "      <td>2019-06-20</td>\n",
       "      <td>339.250000</td>\n",
       "      <td>350.000000</td>\n",
       "      <td>339.200012</td>\n",
       "      <td>348.549988</td>\n",
       "      <td>348.549988</td>\n",
       "      <td>3498169.0</td>\n",
       "    </tr>\n",
       "    <tr>\n",
       "      <th>239</th>\n",
       "      <td>2019-06-19</td>\n",
       "      <td>346.500000</td>\n",
       "      <td>348.000000</td>\n",
       "      <td>334.299988</td>\n",
       "      <td>341.100006</td>\n",
       "      <td>341.100006</td>\n",
       "      <td>3934382.0</td>\n",
       "    </tr>\n",
       "    <tr>\n",
       "      <th>238</th>\n",
       "      <td>2019-06-18</td>\n",
       "      <td>345.399994</td>\n",
       "      <td>347.350006</td>\n",
       "      <td>341.200012</td>\n",
       "      <td>345.149994</td>\n",
       "      <td>345.149994</td>\n",
       "      <td>4885837.0</td>\n",
       "    </tr>\n",
       "    <tr>\n",
       "      <th>237</th>\n",
       "      <td>2019-06-17</td>\n",
       "      <td>355.600006</td>\n",
       "      <td>355.600006</td>\n",
       "      <td>342.100006</td>\n",
       "      <td>344.000000</td>\n",
       "      <td>344.000000</td>\n",
       "      <td>6956493.0</td>\n",
       "    </tr>\n",
       "    <tr>\n",
       "      <th>236</th>\n",
       "      <td>2019-06-14</td>\n",
       "      <td>362.549988</td>\n",
       "      <td>362.950012</td>\n",
       "      <td>351.649994</td>\n",
       "      <td>353.299988</td>\n",
       "      <td>353.299988</td>\n",
       "      <td>5075586.0</td>\n",
       "    </tr>\n",
       "    <tr>\n",
       "      <th>235</th>\n",
       "      <td>2019-06-13</td>\n",
       "      <td>357.049988</td>\n",
       "      <td>364.950012</td>\n",
       "      <td>357.049988</td>\n",
       "      <td>363.750000</td>\n",
       "      <td>363.750000</td>\n",
       "      <td>3768622.0</td>\n",
       "    </tr>\n",
       "    <tr>\n",
       "      <th>234</th>\n",
       "      <td>2019-06-12</td>\n",
       "      <td>362.399994</td>\n",
       "      <td>362.399994</td>\n",
       "      <td>357.100006</td>\n",
       "      <td>359.899994</td>\n",
       "      <td>359.899994</td>\n",
       "      <td>2815172.0</td>\n",
       "    </tr>\n",
       "    <tr>\n",
       "      <th>233</th>\n",
       "      <td>2019-06-11</td>\n",
       "      <td>363.000000</td>\n",
       "      <td>366.950012</td>\n",
       "      <td>358.250000</td>\n",
       "      <td>363.250000</td>\n",
       "      <td>363.250000</td>\n",
       "      <td>5563691.0</td>\n",
       "    </tr>\n",
       "    <tr>\n",
       "      <th>232</th>\n",
       "      <td>2019-06-10</td>\n",
       "      <td>354.799988</td>\n",
       "      <td>364.649994</td>\n",
       "      <td>353.649994</td>\n",
       "      <td>363.450012</td>\n",
       "      <td>363.450012</td>\n",
       "      <td>5882086.0</td>\n",
       "    </tr>\n",
       "    <tr>\n",
       "      <th>231</th>\n",
       "      <td>2019-06-07</td>\n",
       "      <td>353.799988</td>\n",
       "      <td>361.950012</td>\n",
       "      <td>351.799988</td>\n",
       "      <td>357.100006</td>\n",
       "      <td>357.100006</td>\n",
       "      <td>5771494.0</td>\n",
       "    </tr>\n",
       "    <tr>\n",
       "      <th>230</th>\n",
       "      <td>2019-06-06</td>\n",
       "      <td>352.799988</td>\n",
       "      <td>355.950012</td>\n",
       "      <td>348.500000</td>\n",
       "      <td>353.799988</td>\n",
       "      <td>353.799988</td>\n",
       "      <td>10317108.0</td>\n",
       "    </tr>\n",
       "    <tr>\n",
       "      <th>229</th>\n",
       "      <td>2019-06-04</td>\n",
       "      <td>351.000000</td>\n",
       "      <td>355.950012</td>\n",
       "      <td>349.750000</td>\n",
       "      <td>352.399994</td>\n",
       "      <td>352.399994</td>\n",
       "      <td>6625043.0</td>\n",
       "    </tr>\n",
       "    <tr>\n",
       "      <th>228</th>\n",
       "      <td>2019-06-03</td>\n",
       "      <td>351.500000</td>\n",
       "      <td>355.750000</td>\n",
       "      <td>348.850006</td>\n",
       "      <td>352.750000</td>\n",
       "      <td>352.750000</td>\n",
       "      <td>5118048.0</td>\n",
       "    </tr>\n",
       "    <tr>\n",
       "      <th>227</th>\n",
       "      <td>2019-05-31</td>\n",
       "      <td>349.000000</td>\n",
       "      <td>352.399994</td>\n",
       "      <td>344.450012</td>\n",
       "      <td>348.799988</td>\n",
       "      <td>348.799988</td>\n",
       "      <td>10825441.0</td>\n",
       "    </tr>\n",
       "    <tr>\n",
       "      <th>226</th>\n",
       "      <td>2019-05-30</td>\n",
       "      <td>340.000000</td>\n",
       "      <td>349.549988</td>\n",
       "      <td>339.549988</td>\n",
       "      <td>346.700012</td>\n",
       "      <td>346.700012</td>\n",
       "      <td>13891400.0</td>\n",
       "    </tr>\n",
       "    <tr>\n",
       "      <th>225</th>\n",
       "      <td>2019-05-29</td>\n",
       "      <td>343.799988</td>\n",
       "      <td>345.149994</td>\n",
       "      <td>337.850006</td>\n",
       "      <td>338.799988</td>\n",
       "      <td>338.799988</td>\n",
       "      <td>4497114.0</td>\n",
       "    </tr>\n",
       "    <tr>\n",
       "      <th>224</th>\n",
       "      <td>2019-05-28</td>\n",
       "      <td>348.750000</td>\n",
       "      <td>351.700012</td>\n",
       "      <td>341.700012</td>\n",
       "      <td>345.600006</td>\n",
       "      <td>345.600006</td>\n",
       "      <td>8484214.0</td>\n",
       "    </tr>\n",
       "    <tr>\n",
       "      <th>223</th>\n",
       "      <td>2019-05-27</td>\n",
       "      <td>349.700012</td>\n",
       "      <td>351.899994</td>\n",
       "      <td>346.350006</td>\n",
       "      <td>349.500000</td>\n",
       "      <td>349.500000</td>\n",
       "      <td>3930538.0</td>\n",
       "    </tr>\n",
       "    <tr>\n",
       "      <th>222</th>\n",
       "      <td>2019-05-24</td>\n",
       "      <td>340.049988</td>\n",
       "      <td>356.000000</td>\n",
       "      <td>340.000000</td>\n",
       "      <td>353.200012</td>\n",
       "      <td>353.200012</td>\n",
       "      <td>9576934.0</td>\n",
       "    </tr>\n",
       "    <tr>\n",
       "      <th>221</th>\n",
       "      <td>2019-05-23</td>\n",
       "      <td>337.549988</td>\n",
       "      <td>349.000000</td>\n",
       "      <td>334.200012</td>\n",
       "      <td>338.799988</td>\n",
       "      <td>338.799988</td>\n",
       "      <td>5349429.0</td>\n",
       "    </tr>\n",
       "    <tr>\n",
       "      <th>220</th>\n",
       "      <td>2019-05-22</td>\n",
       "      <td>331.000000</td>\n",
       "      <td>337.950012</td>\n",
       "      <td>328.649994</td>\n",
       "      <td>335.149994</td>\n",
       "      <td>335.149994</td>\n",
       "      <td>6666818.0</td>\n",
       "    </tr>\n",
       "    <tr>\n",
       "      <th>219</th>\n",
       "      <td>2019-05-21</td>\n",
       "      <td>340.000000</td>\n",
       "      <td>340.100006</td>\n",
       "      <td>328.549988</td>\n",
       "      <td>330.649994</td>\n",
       "      <td>330.649994</td>\n",
       "      <td>4237059.0</td>\n",
       "    </tr>\n",
       "    <tr>\n",
       "      <th>218</th>\n",
       "      <td>2019-05-20</td>\n",
       "      <td>332.049988</td>\n",
       "      <td>341.950012</td>\n",
       "      <td>331.000000</td>\n",
       "      <td>340.100006</td>\n",
       "      <td>340.100006</td>\n",
       "      <td>7713557.0</td>\n",
       "    </tr>\n",
       "    <tr>\n",
       "      <th>217</th>\n",
       "      <td>2019-05-17</td>\n",
       "      <td>323.700012</td>\n",
       "      <td>330.700012</td>\n",
       "      <td>322.149994</td>\n",
       "      <td>328.450012</td>\n",
       "      <td>328.450012</td>\n",
       "      <td>4042029.0</td>\n",
       "    </tr>\n",
       "    <tr>\n",
       "      <th>216</th>\n",
       "      <td>2019-05-16</td>\n",
       "      <td>332.000000</td>\n",
       "      <td>333.299988</td>\n",
       "      <td>321.049988</td>\n",
       "      <td>325.200012</td>\n",
       "      <td>325.200012</td>\n",
       "      <td>4507071.0</td>\n",
       "    </tr>\n",
       "    <tr>\n",
       "      <th>215</th>\n",
       "      <td>2019-05-15</td>\n",
       "      <td>336.000000</td>\n",
       "      <td>338.000000</td>\n",
       "      <td>328.700012</td>\n",
       "      <td>331.250000</td>\n",
       "      <td>331.250000</td>\n",
       "      <td>7639127.0</td>\n",
       "    </tr>\n",
       "    <tr>\n",
       "      <th>214</th>\n",
       "      <td>2019-05-14</td>\n",
       "      <td>316.000000</td>\n",
       "      <td>339.700012</td>\n",
       "      <td>315.200012</td>\n",
       "      <td>336.600006</td>\n",
       "      <td>336.600006</td>\n",
       "      <td>10752770.0</td>\n",
       "    </tr>\n",
       "    <tr>\n",
       "      <th>...</th>\n",
       "      <td>...</td>\n",
       "      <td>...</td>\n",
       "      <td>...</td>\n",
       "      <td>...</td>\n",
       "      <td>...</td>\n",
       "      <td>...</td>\n",
       "      <td>...</td>\n",
       "    </tr>\n",
       "    <tr>\n",
       "      <th>29</th>\n",
       "      <td>2018-08-03</td>\n",
       "      <td>344.132996</td>\n",
       "      <td>346.061005</td>\n",
       "      <td>340.092987</td>\n",
       "      <td>343.858002</td>\n",
       "      <td>340.758362</td>\n",
       "      <td>3580481.0</td>\n",
       "    </tr>\n",
       "    <tr>\n",
       "      <th>28</th>\n",
       "      <td>2018-08-02</td>\n",
       "      <td>352.029999</td>\n",
       "      <td>353.269012</td>\n",
       "      <td>338.990997</td>\n",
       "      <td>342.480988</td>\n",
       "      <td>339.393768</td>\n",
       "      <td>6072735.0</td>\n",
       "    </tr>\n",
       "    <tr>\n",
       "      <th>27</th>\n",
       "      <td>2018-08-01</td>\n",
       "      <td>358.089996</td>\n",
       "      <td>366.352997</td>\n",
       "      <td>351.341003</td>\n",
       "      <td>353.040009</td>\n",
       "      <td>347.380157</td>\n",
       "      <td>9270900.0</td>\n",
       "    </tr>\n",
       "    <tr>\n",
       "      <th>26</th>\n",
       "      <td>2018-07-31</td>\n",
       "      <td>350.743988</td>\n",
       "      <td>360.431000</td>\n",
       "      <td>347.713989</td>\n",
       "      <td>358.640015</td>\n",
       "      <td>352.890381</td>\n",
       "      <td>7947092.0</td>\n",
       "    </tr>\n",
       "    <tr>\n",
       "      <th>25</th>\n",
       "      <td>2018-07-30</td>\n",
       "      <td>329.626007</td>\n",
       "      <td>357.079987</td>\n",
       "      <td>326.229004</td>\n",
       "      <td>351.891998</td>\n",
       "      <td>346.250549</td>\n",
       "      <td>7338398.0</td>\n",
       "    </tr>\n",
       "    <tr>\n",
       "      <th>24</th>\n",
       "      <td>2018-07-27</td>\n",
       "      <td>330.451996</td>\n",
       "      <td>343.307007</td>\n",
       "      <td>322.877014</td>\n",
       "      <td>334.859985</td>\n",
       "      <td>329.491577</td>\n",
       "      <td>8850789.0</td>\n",
       "    </tr>\n",
       "    <tr>\n",
       "      <th>23</th>\n",
       "      <td>2018-07-26</td>\n",
       "      <td>324.162994</td>\n",
       "      <td>330.544006</td>\n",
       "      <td>323.519989</td>\n",
       "      <td>328.386993</td>\n",
       "      <td>323.122375</td>\n",
       "      <td>3746340.0</td>\n",
       "    </tr>\n",
       "    <tr>\n",
       "      <th>22</th>\n",
       "      <td>2018-07-25</td>\n",
       "      <td>326.045013</td>\n",
       "      <td>326.687988</td>\n",
       "      <td>315.394012</td>\n",
       "      <td>323.473999</td>\n",
       "      <td>318.288116</td>\n",
       "      <td>5079802.0</td>\n",
       "    </tr>\n",
       "    <tr>\n",
       "      <th>21</th>\n",
       "      <td>2018-07-24</td>\n",
       "      <td>331.829987</td>\n",
       "      <td>336.466003</td>\n",
       "      <td>326.183014</td>\n",
       "      <td>327.605988</td>\n",
       "      <td>322.353851</td>\n",
       "      <td>4270365.0</td>\n",
       "    </tr>\n",
       "    <tr>\n",
       "      <th>20</th>\n",
       "      <td>2018-07-23</td>\n",
       "      <td>317.230988</td>\n",
       "      <td>330.544006</td>\n",
       "      <td>316.772003</td>\n",
       "      <td>329.579987</td>\n",
       "      <td>324.296204</td>\n",
       "      <td>4068850.0</td>\n",
       "    </tr>\n",
       "    <tr>\n",
       "      <th>19</th>\n",
       "      <td>2018-07-20</td>\n",
       "      <td>314.934998</td>\n",
       "      <td>319.251007</td>\n",
       "      <td>312.502014</td>\n",
       "      <td>317.139008</td>\n",
       "      <td>312.054688</td>\n",
       "      <td>4134705.0</td>\n",
       "    </tr>\n",
       "    <tr>\n",
       "      <th>18</th>\n",
       "      <td>2018-07-19</td>\n",
       "      <td>311.261993</td>\n",
       "      <td>319.066986</td>\n",
       "      <td>309.976990</td>\n",
       "      <td>316.772003</td>\n",
       "      <td>311.693573</td>\n",
       "      <td>4935279.0</td>\n",
       "    </tr>\n",
       "    <tr>\n",
       "      <th>17</th>\n",
       "      <td>2018-07-18</td>\n",
       "      <td>315.945007</td>\n",
       "      <td>316.863007</td>\n",
       "      <td>303.916992</td>\n",
       "      <td>309.242004</td>\n",
       "      <td>304.284302</td>\n",
       "      <td>5224128.0</td>\n",
       "    </tr>\n",
       "    <tr>\n",
       "      <th>16</th>\n",
       "      <td>2018-07-17</td>\n",
       "      <td>318.608002</td>\n",
       "      <td>322.005005</td>\n",
       "      <td>312.181000</td>\n",
       "      <td>314.522003</td>\n",
       "      <td>309.479645</td>\n",
       "      <td>5320270.0</td>\n",
       "    </tr>\n",
       "    <tr>\n",
       "      <th>15</th>\n",
       "      <td>2018-07-16</td>\n",
       "      <td>326.871002</td>\n",
       "      <td>330.315002</td>\n",
       "      <td>316.588013</td>\n",
       "      <td>318.975006</td>\n",
       "      <td>313.861267</td>\n",
       "      <td>3551727.0</td>\n",
       "    </tr>\n",
       "    <tr>\n",
       "      <th>14</th>\n",
       "      <td>2018-07-13</td>\n",
       "      <td>334.217010</td>\n",
       "      <td>334.997009</td>\n",
       "      <td>328.110992</td>\n",
       "      <td>329.579987</td>\n",
       "      <td>324.296204</td>\n",
       "      <td>5213336.0</td>\n",
       "    </tr>\n",
       "    <tr>\n",
       "      <th>13</th>\n",
       "      <td>2018-07-12</td>\n",
       "      <td>335.135010</td>\n",
       "      <td>335.135010</td>\n",
       "      <td>330.865997</td>\n",
       "      <td>332.518005</td>\n",
       "      <td>327.187164</td>\n",
       "      <td>2256843.0</td>\n",
       "    </tr>\n",
       "    <tr>\n",
       "      <th>12</th>\n",
       "      <td>2018-07-11</td>\n",
       "      <td>338.716003</td>\n",
       "      <td>338.716003</td>\n",
       "      <td>331.371002</td>\n",
       "      <td>332.381012</td>\n",
       "      <td>327.052338</td>\n",
       "      <td>2046713.0</td>\n",
       "    </tr>\n",
       "    <tr>\n",
       "      <th>11</th>\n",
       "      <td>2018-07-10</td>\n",
       "      <td>332.839996</td>\n",
       "      <td>339.541992</td>\n",
       "      <td>332.839996</td>\n",
       "      <td>337.705994</td>\n",
       "      <td>332.291962</td>\n",
       "      <td>1844718.0</td>\n",
       "    </tr>\n",
       "    <tr>\n",
       "      <th>10</th>\n",
       "      <td>2018-07-09</td>\n",
       "      <td>336.053009</td>\n",
       "      <td>336.420990</td>\n",
       "      <td>332.013000</td>\n",
       "      <td>332.471985</td>\n",
       "      <td>327.141846</td>\n",
       "      <td>5151543.0</td>\n",
       "    </tr>\n",
       "    <tr>\n",
       "      <th>9</th>\n",
       "      <td>2018-07-06</td>\n",
       "      <td>332.381012</td>\n",
       "      <td>335.502014</td>\n",
       "      <td>330.451996</td>\n",
       "      <td>332.609985</td>\n",
       "      <td>327.277649</td>\n",
       "      <td>7861232.0</td>\n",
       "    </tr>\n",
       "    <tr>\n",
       "      <th>8</th>\n",
       "      <td>2018-07-05</td>\n",
       "      <td>335.135010</td>\n",
       "      <td>336.742004</td>\n",
       "      <td>330.222992</td>\n",
       "      <td>333.665985</td>\n",
       "      <td>328.316711</td>\n",
       "      <td>6973455.0</td>\n",
       "    </tr>\n",
       "    <tr>\n",
       "      <th>7</th>\n",
       "      <td>2018-07-04</td>\n",
       "      <td>340.506012</td>\n",
       "      <td>341.471008</td>\n",
       "      <td>333.023010</td>\n",
       "      <td>337.338989</td>\n",
       "      <td>331.930847</td>\n",
       "      <td>4275163.0</td>\n",
       "    </tr>\n",
       "    <tr>\n",
       "      <th>6</th>\n",
       "      <td>2018-07-03</td>\n",
       "      <td>343.950012</td>\n",
       "      <td>343.950012</td>\n",
       "      <td>336.144989</td>\n",
       "      <td>340.415009</td>\n",
       "      <td>334.957550</td>\n",
       "      <td>3035643.0</td>\n",
       "    </tr>\n",
       "    <tr>\n",
       "      <th>5</th>\n",
       "      <td>2018-07-02</td>\n",
       "      <td>349.917999</td>\n",
       "      <td>350.192993</td>\n",
       "      <td>335.640015</td>\n",
       "      <td>337.936005</td>\n",
       "      <td>332.518280</td>\n",
       "      <td>4782422.0</td>\n",
       "    </tr>\n",
       "    <tr>\n",
       "      <th>4</th>\n",
       "      <td>2018-06-29</td>\n",
       "      <td>344.592010</td>\n",
       "      <td>351.937988</td>\n",
       "      <td>344.592010</td>\n",
       "      <td>350.697998</td>\n",
       "      <td>345.075684</td>\n",
       "      <td>3749975.0</td>\n",
       "    </tr>\n",
       "    <tr>\n",
       "      <th>3</th>\n",
       "      <td>2018-06-28</td>\n",
       "      <td>343.122986</td>\n",
       "      <td>350.192993</td>\n",
       "      <td>338.394989</td>\n",
       "      <td>347.026001</td>\n",
       "      <td>341.462555</td>\n",
       "      <td>6379019.0</td>\n",
       "    </tr>\n",
       "    <tr>\n",
       "      <th>2</th>\n",
       "      <td>2018-06-27</td>\n",
       "      <td>350.056000</td>\n",
       "      <td>350.330994</td>\n",
       "      <td>342.571991</td>\n",
       "      <td>344.914001</td>\n",
       "      <td>339.384399</td>\n",
       "      <td>3716277.0</td>\n",
       "    </tr>\n",
       "    <tr>\n",
       "      <th>1</th>\n",
       "      <td>2018-06-26</td>\n",
       "      <td>343.398987</td>\n",
       "      <td>351.433014</td>\n",
       "      <td>342.664001</td>\n",
       "      <td>349.091003</td>\n",
       "      <td>343.494446</td>\n",
       "      <td>4703702.0</td>\n",
       "    </tr>\n",
       "    <tr>\n",
       "      <th>0</th>\n",
       "      <td>2018-06-25</td>\n",
       "      <td>NaN</td>\n",
       "      <td>NaN</td>\n",
       "      <td>NaN</td>\n",
       "      <td>NaN</td>\n",
       "      <td>NaN</td>\n",
       "      <td>NaN</td>\n",
       "    </tr>\n",
       "  </tbody>\n",
       "</table>\n",
       "<p>244 rows × 7 columns</p>\n",
       "</div>"
      ],
      "text/plain": [
       "           Date        Open        High  ...       Close   Adj Close      Volume\n",
       "243  2019-06-25  345.450012  352.000000  ...  348.600006  348.600006   2796305.0\n",
       "242  2019-06-24  345.149994  348.549988  ...  345.100006  345.100006   3249667.0\n",
       "241  2019-06-21  347.500000  349.899994  ...  343.799988  343.799988   9584254.0\n",
       "240  2019-06-20  339.250000  350.000000  ...  348.549988  348.549988   3498169.0\n",
       "239  2019-06-19  346.500000  348.000000  ...  341.100006  341.100006   3934382.0\n",
       "238  2019-06-18  345.399994  347.350006  ...  345.149994  345.149994   4885837.0\n",
       "237  2019-06-17  355.600006  355.600006  ...  344.000000  344.000000   6956493.0\n",
       "236  2019-06-14  362.549988  362.950012  ...  353.299988  353.299988   5075586.0\n",
       "235  2019-06-13  357.049988  364.950012  ...  363.750000  363.750000   3768622.0\n",
       "234  2019-06-12  362.399994  362.399994  ...  359.899994  359.899994   2815172.0\n",
       "233  2019-06-11  363.000000  366.950012  ...  363.250000  363.250000   5563691.0\n",
       "232  2019-06-10  354.799988  364.649994  ...  363.450012  363.450012   5882086.0\n",
       "231  2019-06-07  353.799988  361.950012  ...  357.100006  357.100006   5771494.0\n",
       "230  2019-06-06  352.799988  355.950012  ...  353.799988  353.799988  10317108.0\n",
       "229  2019-06-04  351.000000  355.950012  ...  352.399994  352.399994   6625043.0\n",
       "228  2019-06-03  351.500000  355.750000  ...  352.750000  352.750000   5118048.0\n",
       "227  2019-05-31  349.000000  352.399994  ...  348.799988  348.799988  10825441.0\n",
       "226  2019-05-30  340.000000  349.549988  ...  346.700012  346.700012  13891400.0\n",
       "225  2019-05-29  343.799988  345.149994  ...  338.799988  338.799988   4497114.0\n",
       "224  2019-05-28  348.750000  351.700012  ...  345.600006  345.600006   8484214.0\n",
       "223  2019-05-27  349.700012  351.899994  ...  349.500000  349.500000   3930538.0\n",
       "222  2019-05-24  340.049988  356.000000  ...  353.200012  353.200012   9576934.0\n",
       "221  2019-05-23  337.549988  349.000000  ...  338.799988  338.799988   5349429.0\n",
       "220  2019-05-22  331.000000  337.950012  ...  335.149994  335.149994   6666818.0\n",
       "219  2019-05-21  340.000000  340.100006  ...  330.649994  330.649994   4237059.0\n",
       "218  2019-05-20  332.049988  341.950012  ...  340.100006  340.100006   7713557.0\n",
       "217  2019-05-17  323.700012  330.700012  ...  328.450012  328.450012   4042029.0\n",
       "216  2019-05-16  332.000000  333.299988  ...  325.200012  325.200012   4507071.0\n",
       "215  2019-05-15  336.000000  338.000000  ...  331.250000  331.250000   7639127.0\n",
       "214  2019-05-14  316.000000  339.700012  ...  336.600006  336.600006  10752770.0\n",
       "..          ...         ...         ...  ...         ...         ...         ...\n",
       "29   2018-08-03  344.132996  346.061005  ...  343.858002  340.758362   3580481.0\n",
       "28   2018-08-02  352.029999  353.269012  ...  342.480988  339.393768   6072735.0\n",
       "27   2018-08-01  358.089996  366.352997  ...  353.040009  347.380157   9270900.0\n",
       "26   2018-07-31  350.743988  360.431000  ...  358.640015  352.890381   7947092.0\n",
       "25   2018-07-30  329.626007  357.079987  ...  351.891998  346.250549   7338398.0\n",
       "24   2018-07-27  330.451996  343.307007  ...  334.859985  329.491577   8850789.0\n",
       "23   2018-07-26  324.162994  330.544006  ...  328.386993  323.122375   3746340.0\n",
       "22   2018-07-25  326.045013  326.687988  ...  323.473999  318.288116   5079802.0\n",
       "21   2018-07-24  331.829987  336.466003  ...  327.605988  322.353851   4270365.0\n",
       "20   2018-07-23  317.230988  330.544006  ...  329.579987  324.296204   4068850.0\n",
       "19   2018-07-20  314.934998  319.251007  ...  317.139008  312.054688   4134705.0\n",
       "18   2018-07-19  311.261993  319.066986  ...  316.772003  311.693573   4935279.0\n",
       "17   2018-07-18  315.945007  316.863007  ...  309.242004  304.284302   5224128.0\n",
       "16   2018-07-17  318.608002  322.005005  ...  314.522003  309.479645   5320270.0\n",
       "15   2018-07-16  326.871002  330.315002  ...  318.975006  313.861267   3551727.0\n",
       "14   2018-07-13  334.217010  334.997009  ...  329.579987  324.296204   5213336.0\n",
       "13   2018-07-12  335.135010  335.135010  ...  332.518005  327.187164   2256843.0\n",
       "12   2018-07-11  338.716003  338.716003  ...  332.381012  327.052338   2046713.0\n",
       "11   2018-07-10  332.839996  339.541992  ...  337.705994  332.291962   1844718.0\n",
       "10   2018-07-09  336.053009  336.420990  ...  332.471985  327.141846   5151543.0\n",
       "9    2018-07-06  332.381012  335.502014  ...  332.609985  327.277649   7861232.0\n",
       "8    2018-07-05  335.135010  336.742004  ...  333.665985  328.316711   6973455.0\n",
       "7    2018-07-04  340.506012  341.471008  ...  337.338989  331.930847   4275163.0\n",
       "6    2018-07-03  343.950012  343.950012  ...  340.415009  334.957550   3035643.0\n",
       "5    2018-07-02  349.917999  350.192993  ...  337.936005  332.518280   4782422.0\n",
       "4    2018-06-29  344.592010  351.937988  ...  350.697998  345.075684   3749975.0\n",
       "3    2018-06-28  343.122986  350.192993  ...  347.026001  341.462555   6379019.0\n",
       "2    2018-06-27  350.056000  350.330994  ...  344.914001  339.384399   3716277.0\n",
       "1    2018-06-26  343.398987  351.433014  ...  349.091003  343.494446   4703702.0\n",
       "0    2018-06-25         NaN         NaN  ...         NaN         NaN         NaN\n",
       "\n",
       "[244 rows x 7 columns]"
      ]
     },
     "execution_count": 10,
     "metadata": {
      "tags": []
     },
     "output_type": "execute_result"
    }
   ],
   "source": [
    "air.sort_values(by='Date',ascending=False)"
   ]
  },
  {
   "cell_type": "markdown",
   "metadata": {
    "colab_type": "text",
    "id": "S3fOG4DM9AMP"
   },
   "source": [
    "###Converting the data frame index to a datetime index\n",
    "In pandas, a single point in time is represented as a Timestamp. We can use the to_datetime() function to create Timestamps from strings in a wide variety of date/time formats."
   ]
  },
  {
   "cell_type": "code",
   "execution_count": 0,
   "metadata": {
    "colab": {},
    "colab_type": "code",
    "id": "BThfpiaicjcT"
   },
   "outputs": [],
   "source": [
    "air['Date_f']=pd.to_datetime(air['Date'])"
   ]
  },
  {
   "cell_type": "code",
   "execution_count": 12,
   "metadata": {
    "colab": {
     "base_uri": "https://localhost:8080/",
     "height": 183
    },
    "colab_type": "code",
    "id": "9AwE4r9G_Fbu",
    "outputId": "9b3bc476-ac0a-46e6-cdac-09ea0bad3a8b"
   },
   "outputs": [
    {
     "data": {
      "text/plain": [
       "Date                 object\n",
       "Open                float64\n",
       "High                float64\n",
       "Low                 float64\n",
       "Close               float64\n",
       "Adj Close           float64\n",
       "Volume              float64\n",
       "Date_f       datetime64[ns]\n",
       "dtype: object"
      ]
     },
     "execution_count": 12,
     "metadata": {
      "tags": []
     },
     "output_type": "execute_result"
    }
   ],
   "source": [
    "air.dtypes"
   ]
  },
  {
   "cell_type": "markdown",
   "metadata": {
    "colab_type": "text",
    "id": "nluQi9ph_Ra9"
   },
   "source": [
    "we can clearly see that a new column is created with data type as datetime64. In this column the date which is in string format is converted to timestamp, through which more functions can be applied with the help of pandas."
   ]
  },
  {
   "cell_type": "markdown",
   "metadata": {
    "colab_type": "text",
    "id": "sUTJLx9N_qp8"
   },
   "source": [
    "###analysis"
   ]
  },
  {
   "cell_type": "markdown",
   "metadata": {
    "colab_type": "text",
    "id": "VLBjnSOrDTxV"
   },
   "source": [
    "let us check how price of airtel stock varies with date."
   ]
  },
  {
   "cell_type": "code",
   "execution_count": 13,
   "metadata": {
    "colab": {
     "base_uri": "https://localhost:8080/",
     "height": 300
    },
    "colab_type": "code",
    "id": "sTxkoY0llJQk",
    "outputId": "b53d02c8-b86a-4545-cbc6-30d428a824c2"
   },
   "outputs": [
    {
     "data": {
      "text/plain": [
       "<matplotlib.axes._subplots.AxesSubplot at 0x7f6017145c50>"
      ]
     },
     "execution_count": 13,
     "metadata": {
      "tags": []
     },
     "output_type": "execute_result"
    },
    {
     "data": {
      "image/png": "[encoded data removed]",
      "text/plain": [
       "<Figure size 432x288 with 1 Axes>"
      ]
     },
     "metadata": {
      "tags": []
     },
     "output_type": "display_data"
    }
   ],
   "source": [
    "air.set_index(['Date_f'])['High'].plot(kind = 'line')"
   ]
  },
  {
   "cell_type": "code",
   "execution_count": 14,
   "metadata": {
    "colab": {
     "base_uri": "https://localhost:8080/",
     "height": 300
    },
    "colab_type": "code",
    "id": "jk96J5rnKtp8",
    "outputId": "443c3113-6d73-4af2-fc93-5d4f4ac1dcdd"
   },
   "outputs": [
    {
     "data": {
      "text/plain": [
       "<matplotlib.axes._subplots.AxesSubplot at 0x7f601488f6d8>"
      ]
     },
     "execution_count": 14,
     "metadata": {
      "tags": []
     },
     "output_type": "execute_result"
    },
    {
     "data": {
      "image/png": "[encoded data removed]",
      "text/plain": [
       "<Figure size 432x288 with 1 Axes>"
      ]
     },
     "metadata": {
      "tags": []
     },
     "output_type": "display_data"
    }
   ],
   "source": [
    "air.set_index(['Date_f'])['Low'].plot(kind = 'line')"
   ]
  },
  {
   "cell_type": "code",
   "execution_count": 15,
   "metadata": {
    "colab": {
     "base_uri": "https://localhost:8080/",
     "height": 300
    },
    "colab_type": "code",
    "id": "Z2eQD8OQKvgE",
    "outputId": "657b63d6-000c-4e56-87c5-ddec3be016af"
   },
   "outputs": [
    {
     "data": {
      "text/plain": [
       "[]"
      ]
     },
     "execution_count": 15,
     "metadata": {
      "tags": []
     },
     "output_type": "execute_result"
    },
    {
     "data": {
      "image/png": "[encoded data removed]",
      "text/plain": [
       "<Figure size 432x288 with 1 Axes>"
      ]
     },
     "metadata": {
      "tags": []
     },
     "output_type": "display_data"
    }
   ],
   "source": [
    "air.plot(x='Date_f',y=['Open','Close']).plot(kind = 'line')"
   ]
  },
  {
   "cell_type": "markdown",
   "metadata": {
    "colab_type": "text",
    "id": "jkzHwVHPDfWX"
   },
   "source": [
    "we can see that the 52-week low for airtel was somewhere between october and november. Let us check what factors led to the fall of airtel share in this period.\n",
    "\n"
   ]
  },
  {
   "cell_type": "code",
   "execution_count": 16,
   "metadata": {
    "colab": {
     "base_uri": "https://localhost:8080/",
     "height": 307
    },
    "colab_type": "code",
    "id": "3EEWfjBWL-j8",
    "outputId": "4b0e70db-ce55-45e4-ed61-0e41f3185962"
   },
   "outputs": [
    {
     "data": {
      "text/plain": [
       "<matplotlib.axes._subplots.AxesSubplot at 0x7f601485ada0>"
      ]
     },
     "execution_count": 16,
     "metadata": {
      "tags": []
     },
     "output_type": "execute_result"
    },
    {
     "data": {
      "image/png": "[encoded data removed]",
      "text/plain": [
       "<Figure size 432x288 with 1 Axes>"
      ]
     },
     "metadata": {
      "tags": []
     },
     "output_type": "display_data"
    }
   ],
   "source": [
    "air.set_index(['Date_f'])['Volume'].plot(kind = 'line')"
   ]
  },
  {
   "cell_type": "markdown",
   "metadata": {
    "colab_type": "text",
    "id": "ikt5KME_eXqT"
   },
   "source": [
    "the volume shows us the transaction of particular share on that day."
   ]
  },
  {
   "cell_type": "markdown",
   "metadata": {
    "colab_type": "text",
    "id": "kkdirnxkdqOr"
   },
   "source": [
    "we can see that the 52-week low for airtel was somewhere between october and november. Let us check what factors led to the fall of airtel share in this period.\n",
    "\n",
    "#####reasons for fall in share price between october 2018 to march 2019\n",
    "[price fall on October 29 2018](https://www.financialexpress.com/market/bharti-airtel-shares-fall-3-after-africa-ipo-delay-report-telco-denies-report-says-no-change-in-plans/1365344/)\n",
    "\n",
    "[price fall on october 22 2018 ](https://economictimes.indiatimes.com/industry/telecom/telecom-news/airtel-faces-more-pressure-from-ril/articleshow/66309709.cms?from=mdr)\n",
    "\n",
    "[airtel on 52 week low](https://economictimes.indiatimes.com/markets/stocks/news/stock-market-update-over-235-stocks-hit-52-week-lows-on-nse/articleshow/66161820.cms)\n",
    "\n",
    "airtel share price came down drastically even in early january 2019\n",
    "\n",
    "[airtel price fall on january 18](https://www.business-standard.com/article/markets/telecom-stocks-under-pressure-bharti-airtel-vodafone-india-fall-up-to-7-119011800365_1.html)\n",
    "\n",
    "#####reasons for gain in share price between march 2019 to june 2019\n",
    "\n",
    "[prices rise on march12](https://www.business-standard.com/article/markets/bharti-airtel-surges-15-in-two-days-on-stake-sale-plan-in-bharti-infratel-119031200342_1.html)\n",
    "\n",
    "[price rise even in flat market April 2](https://www.business-standard.com/article/markets/bharti-airtel-up-for-fourth-straight-day-stock-surges-5-119040200277_1.html)\n",
    "\n",
    "[airtel quarter 4 result leads to rise in stock price](https://www.business-standard.com/article/companies/airtel-q4-net-profit-up-29-at-rs-107-cr-exceptional-gain-of-rs-2-022-cr-119050601218_1.html)\n",
    "\n",
    "The stock continues its trend as it eyes establishing ipo even in london exchange. The stock has soared for quite a time now and has been in the range of 340 to 350 in the last month."
   ]
  },
  {
   "cell_type": "markdown",
   "metadata": {
    "colab_type": "text",
    "id": "hiSbELySJbDJ"
   },
   "source": [
    "##Vodafone Idea Ltd.\n",
    "Vodafone Idea Limited is India's largest telecom operator with its headquarter based in Mumbai, Maharashtra. Vodafone Idea is a pan-India integrated GSM operator offering 2G, 3G and 4G(LTE) mobile services under two brands named Vodafone and Idea. Vodafone Idea also provides services including Mobile payments, IoT, enterprise offerings and entertainment, accessible via both digital channels as well as on-ground touch points, centers across the country. As of March 2019, Vodafone Idea has 31% market share in India with 394.8 million million subscribers, making it the largest mobile telecommunications network in India and Third largest mobile telecommunications network in the world. Vodafone Idea has a broadband network of 340,000 sites, distribution reach of 1.7 million retail outlets.\n",
    "\n",
    "On 31 August 2018, Vodafone India merged with Idea Cellular, and was renamed as Vodafone Idea Limited. However, the merged entity continues using both the Idea and Vodafone brand. Currently, the Vodafone Group holds a 45.1% stake in the combined entity, the Aditya Birla Group holds 26% and the remaining shares will be held by the public. Kumar Mangalam Birla heads the merged company as the Chairman, with Balesh Sharma as the CEO. "
   ]
  },
  {
   "cell_type": "markdown",
   "metadata": {
    "colab_type": "text",
    "id": "ibayI_kIWP5b"
   },
   "source": [
    "Reading data:"
   ]
  },
  {
   "cell_type": "code",
   "execution_count": 0,
   "metadata": {
    "colab": {},
    "colab_type": "code",
    "id": "Ita7ekqHJwQr"
   },
   "outputs": [],
   "source": [
    "voda=pd.read_csv('../content/sample_data/IDEA.NS.csv')"
   ]
  },
  {
   "cell_type": "markdown",
   "metadata": {
    "colab_type": "text",
    "id": "G4_Y7kBQWRse"
   },
   "source": [
    "###data info"
   ]
  },
  {
   "cell_type": "code",
   "execution_count": 18,
   "metadata": {
    "colab": {
     "base_uri": "https://localhost:8080/",
     "height": 35
    },
    "colab_type": "code",
    "id": "4OCt4mfZJwtN",
    "outputId": "9bf9aad2-5cf9-4f07-9e2b-b8f6b0425716"
   },
   "outputs": [
    {
     "data": {
      "text/plain": [
       "(245, 7)"
      ]
     },
     "execution_count": 18,
     "metadata": {
      "tags": []
     },
     "output_type": "execute_result"
    }
   ],
   "source": [
    "voda.shape"
   ]
  },
  {
   "cell_type": "markdown",
   "metadata": {
    "colab_type": "text",
    "id": "W3VfoYPQWWDG"
   },
   "source": [
    "the data consists of 245 rows and 7 columns"
   ]
  },
  {
   "cell_type": "code",
   "execution_count": 19,
   "metadata": {
    "colab": {
     "base_uri": "https://localhost:8080/",
     "height": 206
    },
    "colab_type": "code",
    "id": "pVQXiM4ilSzl",
    "outputId": "9b712194-40a6-44a9-f27d-38de57530370"
   },
   "outputs": [
    {
     "data": {
      "text/html": [
       "<div>\n",
       "<style scoped>\n",
       "    .dataframe tbody tr th:only-of-type {\n",
       "        vertical-align: middle;\n",
       "    }\n",
       "\n",
       "    .dataframe tbody tr th {\n",
       "        vertical-align: top;\n",
       "    }\n",
       "\n",
       "    .dataframe thead th {\n",
       "        text-align: right;\n",
       "    }\n",
       "</style>\n",
       "<table border=\"1\" class=\"dataframe\">\n",
       "  <thead>\n",
       "    <tr style=\"text-align: right;\">\n",
       "      <th></th>\n",
       "      <th>Date</th>\n",
       "      <th>Open</th>\n",
       "      <th>High</th>\n",
       "      <th>Low</th>\n",
       "      <th>Close</th>\n",
       "      <th>Adj Close</th>\n",
       "      <th>Volume</th>\n",
       "    </tr>\n",
       "  </thead>\n",
       "  <tbody>\n",
       "    <tr>\n",
       "      <th>0</th>\n",
       "      <td>2018-06-25</td>\n",
       "      <td>36.208302</td>\n",
       "      <td>36.298698</td>\n",
       "      <td>33.525101</td>\n",
       "      <td>33.766300</td>\n",
       "      <td>33.766300</td>\n",
       "      <td>46858446</td>\n",
       "    </tr>\n",
       "    <tr>\n",
       "      <th>1</th>\n",
       "      <td>2018-06-26</td>\n",
       "      <td>33.766300</td>\n",
       "      <td>35.183201</td>\n",
       "      <td>33.283901</td>\n",
       "      <td>34.942101</td>\n",
       "      <td>34.942101</td>\n",
       "      <td>42668123</td>\n",
       "    </tr>\n",
       "    <tr>\n",
       "      <th>2</th>\n",
       "      <td>2018-06-27</td>\n",
       "      <td>34.972198</td>\n",
       "      <td>35.424400</td>\n",
       "      <td>32.861801</td>\n",
       "      <td>33.585400</td>\n",
       "      <td>33.585400</td>\n",
       "      <td>27450298</td>\n",
       "    </tr>\n",
       "    <tr>\n",
       "      <th>3</th>\n",
       "      <td>2018-06-28</td>\n",
       "      <td>33.585400</td>\n",
       "      <td>34.610401</td>\n",
       "      <td>33.042702</td>\n",
       "      <td>34.188301</td>\n",
       "      <td>34.188301</td>\n",
       "      <td>29327933</td>\n",
       "    </tr>\n",
       "    <tr>\n",
       "      <th>4</th>\n",
       "      <td>2018-06-29</td>\n",
       "      <td>34.972198</td>\n",
       "      <td>36.057499</td>\n",
       "      <td>33.645699</td>\n",
       "      <td>35.786201</td>\n",
       "      <td>35.786201</td>\n",
       "      <td>21911326</td>\n",
       "    </tr>\n",
       "  </tbody>\n",
       "</table>\n",
       "</div>"
      ],
      "text/plain": [
       "         Date       Open       High        Low      Close  Adj Close    Volume\n",
       "0  2018-06-25  36.208302  36.298698  33.525101  33.766300  33.766300  46858446\n",
       "1  2018-06-26  33.766300  35.183201  33.283901  34.942101  34.942101  42668123\n",
       "2  2018-06-27  34.972198  35.424400  32.861801  33.585400  33.585400  27450298\n",
       "3  2018-06-28  33.585400  34.610401  33.042702  34.188301  34.188301  29327933\n",
       "4  2018-06-29  34.972198  36.057499  33.645699  35.786201  35.786201  21911326"
      ]
     },
     "execution_count": 19,
     "metadata": {
      "tags": []
     },
     "output_type": "execute_result"
    }
   ],
   "source": [
    "voda.head()"
   ]
  },
  {
   "cell_type": "code",
   "execution_count": 20,
   "metadata": {
    "colab": {
     "base_uri": "https://localhost:8080/",
     "height": 300
    },
    "colab_type": "code",
    "id": "FzCJ79QFLvUi",
    "outputId": "1f3731ed-154b-4cea-c4d7-085a93d0f022"
   },
   "outputs": [
    {
     "data": {
      "text/html": [
       "<div>\n",
       "<style scoped>\n",
       "    .dataframe tbody tr th:only-of-type {\n",
       "        vertical-align: middle;\n",
       "    }\n",
       "\n",
       "    .dataframe tbody tr th {\n",
       "        vertical-align: top;\n",
       "    }\n",
       "\n",
       "    .dataframe thead th {\n",
       "        text-align: right;\n",
       "    }\n",
       "</style>\n",
       "<table border=\"1\" class=\"dataframe\">\n",
       "  <thead>\n",
       "    <tr style=\"text-align: right;\">\n",
       "      <th></th>\n",
       "      <th>Open</th>\n",
       "      <th>High</th>\n",
       "      <th>Low</th>\n",
       "      <th>Close</th>\n",
       "      <th>Adj Close</th>\n",
       "      <th>Volume</th>\n",
       "    </tr>\n",
       "  </thead>\n",
       "  <tbody>\n",
       "    <tr>\n",
       "      <th>count</th>\n",
       "      <td>245.000000</td>\n",
       "      <td>245.000000</td>\n",
       "      <td>245.000000</td>\n",
       "      <td>245.000000</td>\n",
       "      <td>245.000000</td>\n",
       "      <td>2.450000e+02</td>\n",
       "    </tr>\n",
       "    <tr>\n",
       "      <th>mean</th>\n",
       "      <td>22.392905</td>\n",
       "      <td>22.858326</td>\n",
       "      <td>21.736451</td>\n",
       "      <td>22.248766</td>\n",
       "      <td>22.248766</td>\n",
       "      <td>5.191785e+07</td>\n",
       "    </tr>\n",
       "    <tr>\n",
       "      <th>std</th>\n",
       "      <td>6.535384</td>\n",
       "      <td>6.645613</td>\n",
       "      <td>6.372499</td>\n",
       "      <td>6.474267</td>\n",
       "      <td>6.474267</td>\n",
       "      <td>4.536238e+07</td>\n",
       "    </tr>\n",
       "    <tr>\n",
       "      <th>min</th>\n",
       "      <td>11.300000</td>\n",
       "      <td>11.950000</td>\n",
       "      <td>11.100000</td>\n",
       "      <td>11.400000</td>\n",
       "      <td>11.400000</td>\n",
       "      <td>0.000000e+00</td>\n",
       "    </tr>\n",
       "    <tr>\n",
       "      <th>25%</th>\n",
       "      <td>18.058901</td>\n",
       "      <td>18.330299</td>\n",
       "      <td>17.606701</td>\n",
       "      <td>17.938299</td>\n",
       "      <td>17.938299</td>\n",
       "      <td>2.620675e+07</td>\n",
       "    </tr>\n",
       "    <tr>\n",
       "      <th>50%</th>\n",
       "      <td>21.676701</td>\n",
       "      <td>22.068701</td>\n",
       "      <td>21.013500</td>\n",
       "      <td>21.676701</td>\n",
       "      <td>21.676701</td>\n",
       "      <td>3.685826e+07</td>\n",
       "    </tr>\n",
       "    <tr>\n",
       "      <th>75%</th>\n",
       "      <td>26.651199</td>\n",
       "      <td>27.465200</td>\n",
       "      <td>25.204100</td>\n",
       "      <td>26.862301</td>\n",
       "      <td>26.862301</td>\n",
       "      <td>5.901932e+07</td>\n",
       "    </tr>\n",
       "    <tr>\n",
       "      <th>max</th>\n",
       "      <td>36.208302</td>\n",
       "      <td>36.931900</td>\n",
       "      <td>33.826599</td>\n",
       "      <td>35.786201</td>\n",
       "      <td>35.786201</td>\n",
       "      <td>2.735424e+08</td>\n",
       "    </tr>\n",
       "  </tbody>\n",
       "</table>\n",
       "</div>"
      ],
      "text/plain": [
       "             Open        High         Low       Close   Adj Close        Volume\n",
       "count  245.000000  245.000000  245.000000  245.000000  245.000000  2.450000e+02\n",
       "mean    22.392905   22.858326   21.736451   22.248766   22.248766  5.191785e+07\n",
       "std      6.535384    6.645613    6.372499    6.474267    6.474267  4.536238e+07\n",
       "min     11.300000   11.950000   11.100000   11.400000   11.400000  0.000000e+00\n",
       "25%     18.058901   18.330299   17.606701   17.938299   17.938299  2.620675e+07\n",
       "50%     21.676701   22.068701   21.013500   21.676701   21.676701  3.685826e+07\n",
       "75%     26.651199   27.465200   25.204100   26.862301   26.862301  5.901932e+07\n",
       "max     36.208302   36.931900   33.826599   35.786201   35.786201  2.735424e+08"
      ]
     },
     "execution_count": 20,
     "metadata": {
      "tags": []
     },
     "output_type": "execute_result"
    }
   ],
   "source": [
    "voda.describe()"
   ]
  },
  {
   "cell_type": "markdown",
   "metadata": {
    "colab_type": "text",
    "id": "7Lx3Nw4SWbP2"
   },
   "source": [
    "###data quality:\n",
    "let us check if null values are present in the data"
   ]
  },
  {
   "cell_type": "code",
   "execution_count": 21,
   "metadata": {
    "colab": {
     "base_uri": "https://localhost:8080/",
     "height": 165
    },
    "colab_type": "code",
    "id": "swAg-VEeLyWy",
    "outputId": "707eccb5-5d11-4320-8403-1923c77d9fdc"
   },
   "outputs": [
    {
     "data": {
      "text/plain": [
       "Date         0\n",
       "Open         0\n",
       "High         0\n",
       "Low          0\n",
       "Close        0\n",
       "Adj Close    0\n",
       "Volume       0\n",
       "dtype: int64"
      ]
     },
     "execution_count": 21,
     "metadata": {
      "tags": []
     },
     "output_type": "execute_result"
    }
   ],
   "source": [
    "voda.isnull().sum()"
   ]
  },
  {
   "cell_type": "markdown",
   "metadata": {
    "colab_type": "text",
    "id": "loKa4zaBWhPk"
   },
   "source": [
    "There are no null values in the data"
   ]
  },
  {
   "cell_type": "code",
   "execution_count": 22,
   "metadata": {
    "colab": {
     "base_uri": "https://localhost:8080/",
     "height": 165
    },
    "colab_type": "code",
    "id": "HkLPKMXHL5WE",
    "outputId": "9f5f766d-f43d-4eb5-9590-e5b2bf3f38ad"
   },
   "outputs": [
    {
     "data": {
      "text/plain": [
       "Date          object\n",
       "Open         float64\n",
       "High         float64\n",
       "Low          float64\n",
       "Close        float64\n",
       "Adj Close    float64\n",
       "Volume         int64\n",
       "dtype: object"
      ]
     },
     "execution_count": 22,
     "metadata": {
      "tags": []
     },
     "output_type": "execute_result"
    }
   ],
   "source": [
    "voda.dtypes"
   ]
  },
  {
   "cell_type": "markdown",
   "metadata": {
    "colab_type": "text",
    "id": "Zg0NlUbeWrMp"
   },
   "source": [
    "###sorting the values:\n",
    "the values are sorted by date."
   ]
  },
  {
   "cell_type": "code",
   "execution_count": 23,
   "metadata": {
    "colab": {
     "base_uri": "https://localhost:8080/",
     "height": 1000
    },
    "colab_type": "code",
    "id": "OTXNyHy_WnPq",
    "outputId": "aa0cbcb1-2a3c-498d-aa46-0e4483694a9e"
   },
   "outputs": [
    {
     "data": {
      "text/html": [
       "<div>\n",
       "<style scoped>\n",
       "    .dataframe tbody tr th:only-of-type {\n",
       "        vertical-align: middle;\n",
       "    }\n",
       "\n",
       "    .dataframe tbody tr th {\n",
       "        vertical-align: top;\n",
       "    }\n",
       "\n",
       "    .dataframe thead th {\n",
       "        text-align: right;\n",
       "    }\n",
       "</style>\n",
       "<table border=\"1\" class=\"dataframe\">\n",
       "  <thead>\n",
       "    <tr style=\"text-align: right;\">\n",
       "      <th></th>\n",
       "      <th>Date</th>\n",
       "      <th>Open</th>\n",
       "      <th>High</th>\n",
       "      <th>Low</th>\n",
       "      <th>Close</th>\n",
       "      <th>Adj Close</th>\n",
       "      <th>Volume</th>\n",
       "    </tr>\n",
       "  </thead>\n",
       "  <tbody>\n",
       "    <tr>\n",
       "      <th>244</th>\n",
       "      <td>2019-06-25</td>\n",
       "      <td>12.000000</td>\n",
       "      <td>12.300000</td>\n",
       "      <td>11.850000</td>\n",
       "      <td>12.100000</td>\n",
       "      <td>12.100000</td>\n",
       "      <td>34910618</td>\n",
       "    </tr>\n",
       "    <tr>\n",
       "      <th>243</th>\n",
       "      <td>2019-06-24</td>\n",
       "      <td>12.150000</td>\n",
       "      <td>12.250000</td>\n",
       "      <td>11.950000</td>\n",
       "      <td>12.100000</td>\n",
       "      <td>12.100000</td>\n",
       "      <td>36858260</td>\n",
       "    </tr>\n",
       "    <tr>\n",
       "      <th>242</th>\n",
       "      <td>2019-06-21</td>\n",
       "      <td>11.900000</td>\n",
       "      <td>12.400000</td>\n",
       "      <td>11.750000</td>\n",
       "      <td>12.150000</td>\n",
       "      <td>12.150000</td>\n",
       "      <td>71979075</td>\n",
       "    </tr>\n",
       "    <tr>\n",
       "      <th>241</th>\n",
       "      <td>2019-06-20</td>\n",
       "      <td>11.300000</td>\n",
       "      <td>11.950000</td>\n",
       "      <td>11.250000</td>\n",
       "      <td>11.900000</td>\n",
       "      <td>11.900000</td>\n",
       "      <td>33264078</td>\n",
       "    </tr>\n",
       "    <tr>\n",
       "      <th>240</th>\n",
       "      <td>2019-06-19</td>\n",
       "      <td>11.950000</td>\n",
       "      <td>12.250000</td>\n",
       "      <td>11.100000</td>\n",
       "      <td>11.400000</td>\n",
       "      <td>11.400000</td>\n",
       "      <td>50447027</td>\n",
       "    </tr>\n",
       "    <tr>\n",
       "      <th>239</th>\n",
       "      <td>2019-06-18</td>\n",
       "      <td>12.000000</td>\n",
       "      <td>12.100000</td>\n",
       "      <td>11.800000</td>\n",
       "      <td>11.950000</td>\n",
       "      <td>11.950000</td>\n",
       "      <td>37194394</td>\n",
       "    </tr>\n",
       "    <tr>\n",
       "      <th>238</th>\n",
       "      <td>2019-06-17</td>\n",
       "      <td>12.450000</td>\n",
       "      <td>12.450000</td>\n",
       "      <td>12.000000</td>\n",
       "      <td>12.100000</td>\n",
       "      <td>12.100000</td>\n",
       "      <td>34319913</td>\n",
       "    </tr>\n",
       "    <tr>\n",
       "      <th>237</th>\n",
       "      <td>2019-06-14</td>\n",
       "      <td>12.850000</td>\n",
       "      <td>12.900000</td>\n",
       "      <td>12.300000</td>\n",
       "      <td>12.500000</td>\n",
       "      <td>12.500000</td>\n",
       "      <td>35801366</td>\n",
       "    </tr>\n",
       "    <tr>\n",
       "      <th>236</th>\n",
       "      <td>2019-06-13</td>\n",
       "      <td>12.800000</td>\n",
       "      <td>13.050000</td>\n",
       "      <td>12.750000</td>\n",
       "      <td>12.900000</td>\n",
       "      <td>12.900000</td>\n",
       "      <td>32447299</td>\n",
       "    </tr>\n",
       "    <tr>\n",
       "      <th>235</th>\n",
       "      <td>2019-06-12</td>\n",
       "      <td>13.150000</td>\n",
       "      <td>13.200000</td>\n",
       "      <td>12.800000</td>\n",
       "      <td>12.850000</td>\n",
       "      <td>12.850000</td>\n",
       "      <td>22813410</td>\n",
       "    </tr>\n",
       "    <tr>\n",
       "      <th>234</th>\n",
       "      <td>2019-06-11</td>\n",
       "      <td>12.950000</td>\n",
       "      <td>13.250000</td>\n",
       "      <td>12.600000</td>\n",
       "      <td>13.150000</td>\n",
       "      <td>13.150000</td>\n",
       "      <td>43370155</td>\n",
       "    </tr>\n",
       "    <tr>\n",
       "      <th>233</th>\n",
       "      <td>2019-06-10</td>\n",
       "      <td>13.300000</td>\n",
       "      <td>13.550000</td>\n",
       "      <td>12.650000</td>\n",
       "      <td>12.800000</td>\n",
       "      <td>12.800000</td>\n",
       "      <td>49800929</td>\n",
       "    </tr>\n",
       "    <tr>\n",
       "      <th>232</th>\n",
       "      <td>2019-06-07</td>\n",
       "      <td>13.450000</td>\n",
       "      <td>13.550000</td>\n",
       "      <td>13.200000</td>\n",
       "      <td>13.400000</td>\n",
       "      <td>13.400000</td>\n",
       "      <td>35136898</td>\n",
       "    </tr>\n",
       "    <tr>\n",
       "      <th>231</th>\n",
       "      <td>2019-06-06</td>\n",
       "      <td>13.900000</td>\n",
       "      <td>14.000000</td>\n",
       "      <td>13.200000</td>\n",
       "      <td>13.450000</td>\n",
       "      <td>13.450000</td>\n",
       "      <td>69427339</td>\n",
       "    </tr>\n",
       "    <tr>\n",
       "      <th>230</th>\n",
       "      <td>2019-06-04</td>\n",
       "      <td>14.050000</td>\n",
       "      <td>14.400000</td>\n",
       "      <td>13.800000</td>\n",
       "      <td>13.850000</td>\n",
       "      <td>13.850000</td>\n",
       "      <td>64187215</td>\n",
       "    </tr>\n",
       "    <tr>\n",
       "      <th>229</th>\n",
       "      <td>2019-06-03</td>\n",
       "      <td>13.950000</td>\n",
       "      <td>14.150000</td>\n",
       "      <td>13.800000</td>\n",
       "      <td>14.000000</td>\n",
       "      <td>14.000000</td>\n",
       "      <td>55031122</td>\n",
       "    </tr>\n",
       "    <tr>\n",
       "      <th>228</th>\n",
       "      <td>2019-05-31</td>\n",
       "      <td>13.600000</td>\n",
       "      <td>14.050000</td>\n",
       "      <td>13.450000</td>\n",
       "      <td>13.950000</td>\n",
       "      <td>13.950000</td>\n",
       "      <td>151171664</td>\n",
       "    </tr>\n",
       "    <tr>\n",
       "      <th>227</th>\n",
       "      <td>2019-05-30</td>\n",
       "      <td>13.200000</td>\n",
       "      <td>13.650000</td>\n",
       "      <td>12.950000</td>\n",
       "      <td>13.300000</td>\n",
       "      <td>13.300000</td>\n",
       "      <td>273542405</td>\n",
       "    </tr>\n",
       "    <tr>\n",
       "      <th>226</th>\n",
       "      <td>2019-05-29</td>\n",
       "      <td>13.700000</td>\n",
       "      <td>13.750000</td>\n",
       "      <td>13.150000</td>\n",
       "      <td>13.200000</td>\n",
       "      <td>13.200000</td>\n",
       "      <td>50735753</td>\n",
       "    </tr>\n",
       "    <tr>\n",
       "      <th>225</th>\n",
       "      <td>2019-05-28</td>\n",
       "      <td>13.050000</td>\n",
       "      <td>13.800000</td>\n",
       "      <td>13.000000</td>\n",
       "      <td>13.650000</td>\n",
       "      <td>13.650000</td>\n",
       "      <td>170049972</td>\n",
       "    </tr>\n",
       "    <tr>\n",
       "      <th>224</th>\n",
       "      <td>2019-05-27</td>\n",
       "      <td>12.650000</td>\n",
       "      <td>13.250000</td>\n",
       "      <td>12.600000</td>\n",
       "      <td>13.050000</td>\n",
       "      <td>13.050000</td>\n",
       "      <td>99540754</td>\n",
       "    </tr>\n",
       "    <tr>\n",
       "      <th>223</th>\n",
       "      <td>2019-05-24</td>\n",
       "      <td>12.850000</td>\n",
       "      <td>13.250000</td>\n",
       "      <td>12.550000</td>\n",
       "      <td>12.850000</td>\n",
       "      <td>12.850000</td>\n",
       "      <td>91577582</td>\n",
       "    </tr>\n",
       "    <tr>\n",
       "      <th>222</th>\n",
       "      <td>2019-05-23</td>\n",
       "      <td>12.300000</td>\n",
       "      <td>13.000000</td>\n",
       "      <td>12.250000</td>\n",
       "      <td>12.750000</td>\n",
       "      <td>12.750000</td>\n",
       "      <td>132685065</td>\n",
       "    </tr>\n",
       "    <tr>\n",
       "      <th>221</th>\n",
       "      <td>2019-05-22</td>\n",
       "      <td>11.850000</td>\n",
       "      <td>12.300000</td>\n",
       "      <td>11.500000</td>\n",
       "      <td>12.150000</td>\n",
       "      <td>12.150000</td>\n",
       "      <td>133499642</td>\n",
       "    </tr>\n",
       "    <tr>\n",
       "      <th>220</th>\n",
       "      <td>2019-05-21</td>\n",
       "      <td>12.600000</td>\n",
       "      <td>12.650000</td>\n",
       "      <td>11.700000</td>\n",
       "      <td>11.800000</td>\n",
       "      <td>11.800000</td>\n",
       "      <td>94310446</td>\n",
       "    </tr>\n",
       "    <tr>\n",
       "      <th>219</th>\n",
       "      <td>2019-05-20</td>\n",
       "      <td>12.250000</td>\n",
       "      <td>13.000000</td>\n",
       "      <td>11.800000</td>\n",
       "      <td>12.550000</td>\n",
       "      <td>12.550000</td>\n",
       "      <td>137707027</td>\n",
       "    </tr>\n",
       "    <tr>\n",
       "      <th>218</th>\n",
       "      <td>2019-05-17</td>\n",
       "      <td>12.400000</td>\n",
       "      <td>12.450000</td>\n",
       "      <td>11.600000</td>\n",
       "      <td>11.850000</td>\n",
       "      <td>11.850000</td>\n",
       "      <td>180983160</td>\n",
       "    </tr>\n",
       "    <tr>\n",
       "      <th>217</th>\n",
       "      <td>2019-05-16</td>\n",
       "      <td>13.000000</td>\n",
       "      <td>13.000000</td>\n",
       "      <td>12.050000</td>\n",
       "      <td>12.200000</td>\n",
       "      <td>12.200000</td>\n",
       "      <td>161982330</td>\n",
       "    </tr>\n",
       "    <tr>\n",
       "      <th>216</th>\n",
       "      <td>2019-05-15</td>\n",
       "      <td>14.050000</td>\n",
       "      <td>14.150000</td>\n",
       "      <td>12.800000</td>\n",
       "      <td>12.900000</td>\n",
       "      <td>12.900000</td>\n",
       "      <td>148791000</td>\n",
       "    </tr>\n",
       "    <tr>\n",
       "      <th>215</th>\n",
       "      <td>2019-05-14</td>\n",
       "      <td>14.450000</td>\n",
       "      <td>14.550000</td>\n",
       "      <td>13.000000</td>\n",
       "      <td>14.000000</td>\n",
       "      <td>14.000000</td>\n",
       "      <td>243253187</td>\n",
       "    </tr>\n",
       "    <tr>\n",
       "      <th>...</th>\n",
       "      <td>...</td>\n",
       "      <td>...</td>\n",
       "      <td>...</td>\n",
       "      <td>...</td>\n",
       "      <td>...</td>\n",
       "      <td>...</td>\n",
       "      <td>...</td>\n",
       "    </tr>\n",
       "    <tr>\n",
       "      <th>29</th>\n",
       "      <td>2018-08-03</td>\n",
       "      <td>33.163300</td>\n",
       "      <td>33.796398</td>\n",
       "      <td>32.891998</td>\n",
       "      <td>33.283901</td>\n",
       "      <td>33.283901</td>\n",
       "      <td>20415953</td>\n",
       "    </tr>\n",
       "    <tr>\n",
       "      <th>28</th>\n",
       "      <td>2018-08-02</td>\n",
       "      <td>32.560299</td>\n",
       "      <td>32.982399</td>\n",
       "      <td>32.077900</td>\n",
       "      <td>32.801498</td>\n",
       "      <td>32.801498</td>\n",
       "      <td>28561904</td>\n",
       "    </tr>\n",
       "    <tr>\n",
       "      <th>27</th>\n",
       "      <td>2018-08-01</td>\n",
       "      <td>33.313999</td>\n",
       "      <td>33.464802</td>\n",
       "      <td>31.987499</td>\n",
       "      <td>32.289001</td>\n",
       "      <td>32.289001</td>\n",
       "      <td>27600317</td>\n",
       "    </tr>\n",
       "    <tr>\n",
       "      <th>26</th>\n",
       "      <td>2018-07-31</td>\n",
       "      <td>33.947201</td>\n",
       "      <td>34.851601</td>\n",
       "      <td>32.741199</td>\n",
       "      <td>33.072800</td>\n",
       "      <td>33.072800</td>\n",
       "      <td>73300512</td>\n",
       "    </tr>\n",
       "    <tr>\n",
       "      <th>25</th>\n",
       "      <td>2018-07-30</td>\n",
       "      <td>34.218498</td>\n",
       "      <td>35.544998</td>\n",
       "      <td>33.464802</td>\n",
       "      <td>35.213402</td>\n",
       "      <td>35.213402</td>\n",
       "      <td>45718198</td>\n",
       "    </tr>\n",
       "    <tr>\n",
       "      <th>24</th>\n",
       "      <td>2018-07-27</td>\n",
       "      <td>34.972198</td>\n",
       "      <td>36.750999</td>\n",
       "      <td>33.766300</td>\n",
       "      <td>33.977299</td>\n",
       "      <td>33.977299</td>\n",
       "      <td>77879655</td>\n",
       "    </tr>\n",
       "    <tr>\n",
       "      <th>23</th>\n",
       "      <td>2018-07-26</td>\n",
       "      <td>33.163300</td>\n",
       "      <td>34.670700</td>\n",
       "      <td>32.741199</td>\n",
       "      <td>34.248600</td>\n",
       "      <td>34.248600</td>\n",
       "      <td>43421229</td>\n",
       "    </tr>\n",
       "    <tr>\n",
       "      <th>22</th>\n",
       "      <td>2018-07-25</td>\n",
       "      <td>34.097900</td>\n",
       "      <td>34.128101</td>\n",
       "      <td>32.922100</td>\n",
       "      <td>33.103001</td>\n",
       "      <td>33.103001</td>\n",
       "      <td>26222195</td>\n",
       "    </tr>\n",
       "    <tr>\n",
       "      <th>21</th>\n",
       "      <td>2018-07-24</td>\n",
       "      <td>32.560299</td>\n",
       "      <td>36.931900</td>\n",
       "      <td>32.439701</td>\n",
       "      <td>34.007500</td>\n",
       "      <td>34.007500</td>\n",
       "      <td>128891780</td>\n",
       "    </tr>\n",
       "    <tr>\n",
       "      <th>20</th>\n",
       "      <td>2018-07-23</td>\n",
       "      <td>30.721300</td>\n",
       "      <td>31.927200</td>\n",
       "      <td>30.359501</td>\n",
       "      <td>31.686001</td>\n",
       "      <td>31.686001</td>\n",
       "      <td>14340483</td>\n",
       "    </tr>\n",
       "    <tr>\n",
       "      <th>19</th>\n",
       "      <td>2018-07-20</td>\n",
       "      <td>30.268999</td>\n",
       "      <td>31.143400</td>\n",
       "      <td>29.666100</td>\n",
       "      <td>30.841900</td>\n",
       "      <td>30.841900</td>\n",
       "      <td>11940350</td>\n",
       "    </tr>\n",
       "    <tr>\n",
       "      <th>18</th>\n",
       "      <td>2018-07-19</td>\n",
       "      <td>30.148500</td>\n",
       "      <td>30.630800</td>\n",
       "      <td>29.364599</td>\n",
       "      <td>30.389601</td>\n",
       "      <td>30.389601</td>\n",
       "      <td>14120596</td>\n",
       "    </tr>\n",
       "    <tr>\n",
       "      <th>17</th>\n",
       "      <td>2018-07-18</td>\n",
       "      <td>31.655899</td>\n",
       "      <td>31.927200</td>\n",
       "      <td>29.123400</td>\n",
       "      <td>30.148500</td>\n",
       "      <td>30.148500</td>\n",
       "      <td>48534021</td>\n",
       "    </tr>\n",
       "    <tr>\n",
       "      <th>16</th>\n",
       "      <td>2018-07-17</td>\n",
       "      <td>31.655899</td>\n",
       "      <td>32.077900</td>\n",
       "      <td>31.052900</td>\n",
       "      <td>31.625700</td>\n",
       "      <td>31.625700</td>\n",
       "      <td>36703816</td>\n",
       "    </tr>\n",
       "    <tr>\n",
       "      <th>15</th>\n",
       "      <td>2018-07-16</td>\n",
       "      <td>31.957399</td>\n",
       "      <td>32.861801</td>\n",
       "      <td>31.444799</td>\n",
       "      <td>31.625700</td>\n",
       "      <td>31.625700</td>\n",
       "      <td>34576486</td>\n",
       "    </tr>\n",
       "    <tr>\n",
       "      <th>14</th>\n",
       "      <td>2018-07-13</td>\n",
       "      <td>32.771400</td>\n",
       "      <td>32.982399</td>\n",
       "      <td>31.866899</td>\n",
       "      <td>32.168400</td>\n",
       "      <td>32.168400</td>\n",
       "      <td>31346314</td>\n",
       "    </tr>\n",
       "    <tr>\n",
       "      <th>13</th>\n",
       "      <td>2018-07-12</td>\n",
       "      <td>32.590500</td>\n",
       "      <td>33.374298</td>\n",
       "      <td>32.409599</td>\n",
       "      <td>32.771400</td>\n",
       "      <td>32.771400</td>\n",
       "      <td>23978865</td>\n",
       "    </tr>\n",
       "    <tr>\n",
       "      <th>12</th>\n",
       "      <td>2018-07-11</td>\n",
       "      <td>33.886902</td>\n",
       "      <td>33.886902</td>\n",
       "      <td>31.746300</td>\n",
       "      <td>32.590500</td>\n",
       "      <td>32.590500</td>\n",
       "      <td>28644810</td>\n",
       "    </tr>\n",
       "    <tr>\n",
       "      <th>11</th>\n",
       "      <td>2018-07-10</td>\n",
       "      <td>34.007500</td>\n",
       "      <td>34.369202</td>\n",
       "      <td>33.193401</td>\n",
       "      <td>33.645699</td>\n",
       "      <td>33.645699</td>\n",
       "      <td>28328543</td>\n",
       "    </tr>\n",
       "    <tr>\n",
       "      <th>10</th>\n",
       "      <td>2018-07-09</td>\n",
       "      <td>33.283901</td>\n",
       "      <td>33.585400</td>\n",
       "      <td>32.801498</td>\n",
       "      <td>32.922100</td>\n",
       "      <td>32.922100</td>\n",
       "      <td>11981757</td>\n",
       "    </tr>\n",
       "    <tr>\n",
       "      <th>9</th>\n",
       "      <td>2018-07-06</td>\n",
       "      <td>32.500000</td>\n",
       "      <td>33.344200</td>\n",
       "      <td>32.439701</td>\n",
       "      <td>32.982399</td>\n",
       "      <td>32.982399</td>\n",
       "      <td>15300192</td>\n",
       "    </tr>\n",
       "    <tr>\n",
       "      <th>8</th>\n",
       "      <td>2018-07-05</td>\n",
       "      <td>32.982399</td>\n",
       "      <td>33.917000</td>\n",
       "      <td>32.289001</td>\n",
       "      <td>32.861801</td>\n",
       "      <td>32.861801</td>\n",
       "      <td>29269771</td>\n",
       "    </tr>\n",
       "    <tr>\n",
       "      <th>7</th>\n",
       "      <td>2018-07-04</td>\n",
       "      <td>34.248600</td>\n",
       "      <td>34.429501</td>\n",
       "      <td>33.193401</td>\n",
       "      <td>33.253700</td>\n",
       "      <td>33.253700</td>\n",
       "      <td>16894067</td>\n",
       "    </tr>\n",
       "    <tr>\n",
       "      <th>6</th>\n",
       "      <td>2018-07-03</td>\n",
       "      <td>34.821499</td>\n",
       "      <td>34.942101</td>\n",
       "      <td>33.826599</td>\n",
       "      <td>34.248600</td>\n",
       "      <td>34.248600</td>\n",
       "      <td>17076138</td>\n",
       "    </tr>\n",
       "    <tr>\n",
       "      <th>5</th>\n",
       "      <td>2018-07-02</td>\n",
       "      <td>35.514900</td>\n",
       "      <td>35.544998</td>\n",
       "      <td>33.555199</td>\n",
       "      <td>34.399399</td>\n",
       "      <td>34.399399</td>\n",
       "      <td>18522046</td>\n",
       "    </tr>\n",
       "    <tr>\n",
       "      <th>4</th>\n",
       "      <td>2018-06-29</td>\n",
       "      <td>34.972198</td>\n",
       "      <td>36.057499</td>\n",
       "      <td>33.645699</td>\n",
       "      <td>35.786201</td>\n",
       "      <td>35.786201</td>\n",
       "      <td>21911326</td>\n",
       "    </tr>\n",
       "    <tr>\n",
       "      <th>3</th>\n",
       "      <td>2018-06-28</td>\n",
       "      <td>33.585400</td>\n",
       "      <td>34.610401</td>\n",
       "      <td>33.042702</td>\n",
       "      <td>34.188301</td>\n",
       "      <td>34.188301</td>\n",
       "      <td>29327933</td>\n",
       "    </tr>\n",
       "    <tr>\n",
       "      <th>2</th>\n",
       "      <td>2018-06-27</td>\n",
       "      <td>34.972198</td>\n",
       "      <td>35.424400</td>\n",
       "      <td>32.861801</td>\n",
       "      <td>33.585400</td>\n",
       "      <td>33.585400</td>\n",
       "      <td>27450298</td>\n",
       "    </tr>\n",
       "    <tr>\n",
       "      <th>1</th>\n",
       "      <td>2018-06-26</td>\n",
       "      <td>33.766300</td>\n",
       "      <td>35.183201</td>\n",
       "      <td>33.283901</td>\n",
       "      <td>34.942101</td>\n",
       "      <td>34.942101</td>\n",
       "      <td>42668123</td>\n",
       "    </tr>\n",
       "    <tr>\n",
       "      <th>0</th>\n",
       "      <td>2018-06-25</td>\n",
       "      <td>36.208302</td>\n",
       "      <td>36.298698</td>\n",
       "      <td>33.525101</td>\n",
       "      <td>33.766300</td>\n",
       "      <td>33.766300</td>\n",
       "      <td>46858446</td>\n",
       "    </tr>\n",
       "  </tbody>\n",
       "</table>\n",
       "<p>245 rows × 7 columns</p>\n",
       "</div>"
      ],
      "text/plain": [
       "           Date       Open       High  ...      Close  Adj Close     Volume\n",
       "244  2019-06-25  12.000000  12.300000  ...  12.100000  12.100000   34910618\n",
       "243  2019-06-24  12.150000  12.250000  ...  12.100000  12.100000   36858260\n",
       "242  2019-06-21  11.900000  12.400000  ...  12.150000  12.150000   71979075\n",
       "241  2019-06-20  11.300000  11.950000  ...  11.900000  11.900000   33264078\n",
       "240  2019-06-19  11.950000  12.250000  ...  11.400000  11.400000   50447027\n",
       "239  2019-06-18  12.000000  12.100000  ...  11.950000  11.950000   37194394\n",
       "238  2019-06-17  12.450000  12.450000  ...  12.100000  12.100000   34319913\n",
       "237  2019-06-14  12.850000  12.900000  ...  12.500000  12.500000   35801366\n",
       "236  2019-06-13  12.800000  13.050000  ...  12.900000  12.900000   32447299\n",
       "235  2019-06-12  13.150000  13.200000  ...  12.850000  12.850000   22813410\n",
       "234  2019-06-11  12.950000  13.250000  ...  13.150000  13.150000   43370155\n",
       "233  2019-06-10  13.300000  13.550000  ...  12.800000  12.800000   49800929\n",
       "232  2019-06-07  13.450000  13.550000  ...  13.400000  13.400000   35136898\n",
       "231  2019-06-06  13.900000  14.000000  ...  13.450000  13.450000   69427339\n",
       "230  2019-06-04  14.050000  14.400000  ...  13.850000  13.850000   64187215\n",
       "229  2019-06-03  13.950000  14.150000  ...  14.000000  14.000000   55031122\n",
       "228  2019-05-31  13.600000  14.050000  ...  13.950000  13.950000  151171664\n",
       "227  2019-05-30  13.200000  13.650000  ...  13.300000  13.300000  273542405\n",
       "226  2019-05-29  13.700000  13.750000  ...  13.200000  13.200000   50735753\n",
       "225  2019-05-28  13.050000  13.800000  ...  13.650000  13.650000  170049972\n",
       "224  2019-05-27  12.650000  13.250000  ...  13.050000  13.050000   99540754\n",
       "223  2019-05-24  12.850000  13.250000  ...  12.850000  12.850000   91577582\n",
       "222  2019-05-23  12.300000  13.000000  ...  12.750000  12.750000  132685065\n",
       "221  2019-05-22  11.850000  12.300000  ...  12.150000  12.150000  133499642\n",
       "220  2019-05-21  12.600000  12.650000  ...  11.800000  11.800000   94310446\n",
       "219  2019-05-20  12.250000  13.000000  ...  12.550000  12.550000  137707027\n",
       "218  2019-05-17  12.400000  12.450000  ...  11.850000  11.850000  180983160\n",
       "217  2019-05-16  13.000000  13.000000  ...  12.200000  12.200000  161982330\n",
       "216  2019-05-15  14.050000  14.150000  ...  12.900000  12.900000  148791000\n",
       "215  2019-05-14  14.450000  14.550000  ...  14.000000  14.000000  243253187\n",
       "..          ...        ...        ...  ...        ...        ...        ...\n",
       "29   2018-08-03  33.163300  33.796398  ...  33.283901  33.283901   20415953\n",
       "28   2018-08-02  32.560299  32.982399  ...  32.801498  32.801498   28561904\n",
       "27   2018-08-01  33.313999  33.464802  ...  32.289001  32.289001   27600317\n",
       "26   2018-07-31  33.947201  34.851601  ...  33.072800  33.072800   73300512\n",
       "25   2018-07-30  34.218498  35.544998  ...  35.213402  35.213402   45718198\n",
       "24   2018-07-27  34.972198  36.750999  ...  33.977299  33.977299   77879655\n",
       "23   2018-07-26  33.163300  34.670700  ...  34.248600  34.248600   43421229\n",
       "22   2018-07-25  34.097900  34.128101  ...  33.103001  33.103001   26222195\n",
       "21   2018-07-24  32.560299  36.931900  ...  34.007500  34.007500  128891780\n",
       "20   2018-07-23  30.721300  31.927200  ...  31.686001  31.686001   14340483\n",
       "19   2018-07-20  30.268999  31.143400  ...  30.841900  30.841900   11940350\n",
       "18   2018-07-19  30.148500  30.630800  ...  30.389601  30.389601   14120596\n",
       "17   2018-07-18  31.655899  31.927200  ...  30.148500  30.148500   48534021\n",
       "16   2018-07-17  31.655899  32.077900  ...  31.625700  31.625700   36703816\n",
       "15   2018-07-16  31.957399  32.861801  ...  31.625700  31.625700   34576486\n",
       "14   2018-07-13  32.771400  32.982399  ...  32.168400  32.168400   31346314\n",
       "13   2018-07-12  32.590500  33.374298  ...  32.771400  32.771400   23978865\n",
       "12   2018-07-11  33.886902  33.886902  ...  32.590500  32.590500   28644810\n",
       "11   2018-07-10  34.007500  34.369202  ...  33.645699  33.645699   28328543\n",
       "10   2018-07-09  33.283901  33.585400  ...  32.922100  32.922100   11981757\n",
       "9    2018-07-06  32.500000  33.344200  ...  32.982399  32.982399   15300192\n",
       "8    2018-07-05  32.982399  33.917000  ...  32.861801  32.861801   29269771\n",
       "7    2018-07-04  34.248600  34.429501  ...  33.253700  33.253700   16894067\n",
       "6    2018-07-03  34.821499  34.942101  ...  34.248600  34.248600   17076138\n",
       "5    2018-07-02  35.514900  35.544998  ...  34.399399  34.399399   18522046\n",
       "4    2018-06-29  34.972198  36.057499  ...  35.786201  35.786201   21911326\n",
       "3    2018-06-28  33.585400  34.610401  ...  34.188301  34.188301   29327933\n",
       "2    2018-06-27  34.972198  35.424400  ...  33.585400  33.585400   27450298\n",
       "1    2018-06-26  33.766300  35.183201  ...  34.942101  34.942101   42668123\n",
       "0    2018-06-25  36.208302  36.298698  ...  33.766300  33.766300   46858446\n",
       "\n",
       "[245 rows x 7 columns]"
      ]
     },
     "execution_count": 23,
     "metadata": {
      "tags": []
     },
     "output_type": "execute_result"
    }
   ],
   "source": [
    "voda.sort_values(by='Date',ascending=False)"
   ]
  },
  {
   "cell_type": "markdown",
   "metadata": {
    "colab_type": "text",
    "id": "3fV4aCA7XB_O"
   },
   "source": [
    "###Converting the data frame index to a datetime index\n",
    "In pandas, a single point in time is represented as a Timestamp. We can use the to_datetime() function to create Timestamps from strings in a wide variety of date/time formats."
   ]
  },
  {
   "cell_type": "code",
   "execution_count": 0,
   "metadata": {
    "colab": {},
    "colab_type": "code",
    "id": "Ko5Q4gc8W4n5"
   },
   "outputs": [],
   "source": [
    "voda['Date_f']=pd.to_datetime(voda['Date'])"
   ]
  },
  {
   "cell_type": "code",
   "execution_count": 25,
   "metadata": {
    "colab": {
     "base_uri": "https://localhost:8080/",
     "height": 183
    },
    "colab_type": "code",
    "id": "peB7yt5CXcuR",
    "outputId": "2d6c5c35-d290-4ff9-91a4-546741e2223c"
   },
   "outputs": [
    {
     "data": {
      "text/plain": [
       "Date                 object\n",
       "Open                float64\n",
       "High                float64\n",
       "Low                 float64\n",
       "Close               float64\n",
       "Adj Close           float64\n",
       "Volume                int64\n",
       "Date_f       datetime64[ns]\n",
       "dtype: object"
      ]
     },
     "execution_count": 25,
     "metadata": {
      "tags": []
     },
     "output_type": "execute_result"
    }
   ],
   "source": [
    "voda.dtypes"
   ]
  },
  {
   "cell_type": "markdown",
   "metadata": {
    "colab_type": "text",
    "id": "_MqOHKQ4Xgbk"
   },
   "source": [
    "we can see that a new column(Date_f) is created with data type as datetime64."
   ]
  },
  {
   "cell_type": "markdown",
   "metadata": {
    "colab_type": "text",
    "id": "EyJltgDpXqG0"
   },
   "source": [
    "###Analysis\n",
    "let us check how the price of vodaphone idea stock varies in the taken duration."
   ]
  },
  {
   "cell_type": "code",
   "execution_count": 26,
   "metadata": {
    "colab": {
     "base_uri": "https://localhost:8080/",
     "height": 300
    },
    "colab_type": "code",
    "id": "PIWMPjFRXerd",
    "outputId": "a56d8f27-79f8-437b-aed2-b61303abef63"
   },
   "outputs": [
    {
     "data": {
      "text/plain": [
       "<matplotlib.axes._subplots.AxesSubplot at 0x7f6014744cf8>"
      ]
     },
     "execution_count": 26,
     "metadata": {
      "tags": []
     },
     "output_type": "execute_result"
    },
    {
     "data": {
      "image/png": "[encoded data removed]",
      "text/plain": [
       "<Figure size 432x288 with 1 Axes>"
      ]
     },
     "metadata": {
      "tags": []
     },
     "output_type": "display_data"
    }
   ],
   "source": [
    "voda.set_index(['Date_f'])['High'].plot(kind = 'line')"
   ]
  },
  {
   "cell_type": "code",
   "execution_count": 27,
   "metadata": {
    "colab": {
     "base_uri": "https://localhost:8080/",
     "height": 300
    },
    "colab_type": "code",
    "id": "Hx9fXQm5X-Kf",
    "outputId": "b8cb8618-c5ba-4056-9861-7ba8c0170bc4"
   },
   "outputs": [
    {
     "data": {
      "text/plain": [
       "[]"
      ]
     },
     "execution_count": 27,
     "metadata": {
      "tags": []
     },
     "output_type": "execute_result"
    },
    {
     "data": {
      "image/png": "[encoded data removed]",
      "text/plain": [
       "<Figure size 432x288 with 1 Axes>"
      ]
     },
     "metadata": {
      "tags": []
     },
     "output_type": "display_data"
    }
   ],
   "source": [
    "voda.plot(x='Date_f',y=['Open','Close']).plot(kind = 'line')"
   ]
  },
  {
   "cell_type": "markdown",
   "metadata": {
    "colab_type": "text",
    "id": "J6INYO7WYWrk"
   },
   "source": [
    "we can clearly see that the stock has continuously been falling down. Though it tries to recover its fall, after some duration it falls again."
   ]
  },
  {
   "cell_type": "code",
   "execution_count": 28,
   "metadata": {
    "colab": {
     "base_uri": "https://localhost:8080/",
     "height": 307
    },
    "colab_type": "code",
    "id": "Djy1MKPQYNxY",
    "outputId": "6d7403a5-77d4-463b-f7ef-806ace660ff0"
   },
   "outputs": [
    {
     "data": {
      "text/plain": [
       "<matplotlib.axes._subplots.AxesSubplot at 0x7f60147a84e0>"
      ]
     },
     "execution_count": 28,
     "metadata": {
      "tags": []
     },
     "output_type": "execute_result"
    },
    {
     "data": {
      "image/png": "[encoded data removed]",
      "text/plain": [
       "<Figure size 432x288 with 1 Axes>"
      ]
     },
     "metadata": {
      "tags": []
     },
     "output_type": "display_data"
    }
   ],
   "source": [
    "voda.set_index(['Date_f'])['Volume'].plot(kind = 'line')"
   ]
  },
  {
   "cell_type": "markdown",
   "metadata": {
    "colab_type": "text",
    "id": "wZmsZPYQd-mz"
   },
   "source": [
    "though the price of the stock is decreasing, we can see the hike of volume on certain points. Suprisingly the highest volumes were recorded when the stock is still falling down to low prices."
   ]
  },
  {
   "cell_type": "markdown",
   "metadata": {
    "colab_type": "text",
    "id": "l1h4cuzOehka"
   },
   "source": [
    "vodaphone and idea merger happened on 31/08/2018. the share went from 29 to 31/share in 2 days\n",
    "\n",
    "\n"
   ]
  },
  {
   "cell_type": "code",
   "execution_count": 77,
   "metadata": {
    "colab": {
     "base_uri": "https://localhost:8080/",
     "height": 80
    },
    "colab_type": "code",
    "id": "bsfJoyH6eUL0",
    "outputId": "01ae1359-e3f9-4be3-803b-435a970a3082"
   },
   "outputs": [
    {
     "data": {
      "text/html": [
       "<div>\n",
       "<style scoped>\n",
       "    .dataframe tbody tr th:only-of-type {\n",
       "        vertical-align: middle;\n",
       "    }\n",
       "\n",
       "    .dataframe tbody tr th {\n",
       "        vertical-align: top;\n",
       "    }\n",
       "\n",
       "    .dataframe thead th {\n",
       "        text-align: right;\n",
       "    }\n",
       "</style>\n",
       "<table border=\"1\" class=\"dataframe\">\n",
       "  <thead>\n",
       "    <tr style=\"text-align: right;\">\n",
       "      <th></th>\n",
       "      <th>Date</th>\n",
       "      <th>Open</th>\n",
       "      <th>High</th>\n",
       "      <th>Low</th>\n",
       "      <th>Close</th>\n",
       "      <th>Adj Close</th>\n",
       "      <th>Volume</th>\n",
       "      <th>Date_f</th>\n",
       "    </tr>\n",
       "  </thead>\n",
       "  <tbody>\n",
       "    <tr>\n",
       "      <th>46</th>\n",
       "      <td>2018-08-30</td>\n",
       "      <td>29.937401</td>\n",
       "      <td>30.359501</td>\n",
       "      <td>29.4249</td>\n",
       "      <td>30.058001</td>\n",
       "      <td>30.058001</td>\n",
       "      <td>76782643</td>\n",
       "      <td>2018-08-30</td>\n",
       "    </tr>\n",
       "  </tbody>\n",
       "</table>\n",
       "</div>"
      ],
      "text/plain": [
       "          Date       Open       High  ...  Adj Close    Volume     Date_f\n",
       "46  2018-08-30  29.937401  30.359501  ...  30.058001  76782643 2018-08-30\n",
       "\n",
       "[1 rows x 8 columns]"
      ]
     },
     "execution_count": 77,
     "metadata": {
      "tags": []
     },
     "output_type": "execute_result"
    }
   ],
   "source": [
    "voda.loc[voda['Date_f']=='8/30/2018']"
   ]
  },
  {
   "cell_type": "code",
   "execution_count": 75,
   "metadata": {
    "colab": {
     "base_uri": "https://localhost:8080/",
     "height": 80
    },
    "colab_type": "code",
    "id": "IoasfJpi9yge",
    "outputId": "426a6554-a309-4516-8b9a-ee2c7dd1b17b"
   },
   "outputs": [
    {
     "data": {
      "text/html": [
       "<div>\n",
       "<style scoped>\n",
       "    .dataframe tbody tr th:only-of-type {\n",
       "        vertical-align: middle;\n",
       "    }\n",
       "\n",
       "    .dataframe tbody tr th {\n",
       "        vertical-align: top;\n",
       "    }\n",
       "\n",
       "    .dataframe thead th {\n",
       "        text-align: right;\n",
       "    }\n",
       "</style>\n",
       "<table border=\"1\" class=\"dataframe\">\n",
       "  <thead>\n",
       "    <tr style=\"text-align: right;\">\n",
       "      <th></th>\n",
       "      <th>Date</th>\n",
       "      <th>Open</th>\n",
       "      <th>High</th>\n",
       "      <th>Low</th>\n",
       "      <th>Close</th>\n",
       "      <th>Adj Close</th>\n",
       "      <th>Volume</th>\n",
       "      <th>Date_f</th>\n",
       "    </tr>\n",
       "  </thead>\n",
       "  <tbody>\n",
       "    <tr>\n",
       "      <th>47</th>\n",
       "      <td>2018-08-31</td>\n",
       "      <td>31.776501</td>\n",
       "      <td>31.8971</td>\n",
       "      <td>29.605801</td>\n",
       "      <td>29.7565</td>\n",
       "      <td>29.7565</td>\n",
       "      <td>124109501</td>\n",
       "      <td>2018-08-31</td>\n",
       "    </tr>\n",
       "  </tbody>\n",
       "</table>\n",
       "</div>"
      ],
      "text/plain": [
       "          Date       Open     High  ...  Adj Close     Volume     Date_f\n",
       "47  2018-08-31  31.776501  31.8971  ...    29.7565  124109501 2018-08-31\n",
       "\n",
       "[1 rows x 8 columns]"
      ]
     },
     "execution_count": 75,
     "metadata": {
      "tags": []
     },
     "output_type": "execute_result"
    }
   ],
   "source": [
    "voda.loc[voda['Date_f']=='8/31/2018']"
   ]
  },
  {
   "cell_type": "markdown",
   "metadata": {
    "colab_type": "text",
    "id": "VOJiZzwpJs-M"
   },
   "source": [
    "but after the increase, it satrted to decrease again due to pressure from other telecom sectors."
   ]
  },
  {
   "cell_type": "markdown",
   "metadata": {
    "colab_type": "text",
    "id": "m6I5ZwW3ENhc"
   },
   "source": [
    "*Reasons for decrease in price of the stock:\n",
    "\n",
    "[Vodafone Idea loss at Rs 4,881.9 crore in Q4](https://www.moneycontrol.com/news/business/vodafone-idea-loss-at-rs-4881-9-crore-in-q4-3968221.html)\n",
    "\n",
    "[Vodafone Idea stocks fall 4.15%](https://telecom.economictimes.indiatimes.com/news/vodafone-idea-stocks-down-4-15/69319803)\n",
    "\n",
    "[Telecom shares fall; Vodafone Idea slips 2%](https://telecom.economictimes.indiatimes.com/news/share-market-update-telecom-shares-fall-vodafone-idea-slips-2/68522195)\n"
   ]
  },
  {
   "cell_type": "markdown",
   "metadata": {
    "colab_type": "text",
    "id": "zzS4EVDMJ2-q"
   },
   "source": [
    "##Tata Communication\n",
    "Tata Communications, formerly called VSNL, is an Indian telecommunications company. It is part of the Tata Group.\n",
    "\n",
    "Its telecommunications network spans more than 500,000 km of subsea fibre and more than 210,000 km of terrestrial fibre. The company has invested $1.19 billion in its global subsea fibre network. It delivers network services and software-defined network platforms, such as Ethernet, SD-WAN, Content delivery network (CDN), Internet, Multiprotocol Label Switching (MPLS) and Private Line. It has more than 400 Points of Presence (POP) globally with data centre and colocation in 44 sites.\n",
    "\n",
    "The company is headquartered in Pune and is listed on the Bombay Stock Exchange and the National Stock Exchange of India. It also holds a stake on its Sri Lankan subsidiaries, Tata Communications Lanka. "
   ]
  },
  {
   "cell_type": "code",
   "execution_count": 0,
   "metadata": {
    "colab": {},
    "colab_type": "code",
    "id": "6SxQLJ_C-cQk"
   },
   "outputs": [],
   "source": [
    "tata=pd.read_csv('../content/sample_data/TATACOMM.NS(1).csv')"
   ]
  },
  {
   "cell_type": "code",
   "execution_count": 79,
   "metadata": {
    "colab": {
     "base_uri": "https://localhost:8080/",
     "height": 206
    },
    "colab_type": "code",
    "id": "ghg6TQ4tLgn8",
    "outputId": "4048f44c-d973-4b8e-98f8-193b528e30b8"
   },
   "outputs": [
    {
     "data": {
      "text/html": [
       "<div>\n",
       "<style scoped>\n",
       "    .dataframe tbody tr th:only-of-type {\n",
       "        vertical-align: middle;\n",
       "    }\n",
       "\n",
       "    .dataframe tbody tr th {\n",
       "        vertical-align: top;\n",
       "    }\n",
       "\n",
       "    .dataframe thead th {\n",
       "        text-align: right;\n",
       "    }\n",
       "</style>\n",
       "<table border=\"1\" class=\"dataframe\">\n",
       "  <thead>\n",
       "    <tr style=\"text-align: right;\">\n",
       "      <th></th>\n",
       "      <th>Date</th>\n",
       "      <th>Open</th>\n",
       "      <th>High</th>\n",
       "      <th>Low</th>\n",
       "      <th>Close</th>\n",
       "      <th>Adj Close</th>\n",
       "      <th>Volume</th>\n",
       "    </tr>\n",
       "  </thead>\n",
       "  <tbody>\n",
       "    <tr>\n",
       "      <th>0</th>\n",
       "      <td>2018-06-25</td>\n",
       "      <td>602.299988</td>\n",
       "      <td>605.599976</td>\n",
       "      <td>596.000000</td>\n",
       "      <td>596.950012</td>\n",
       "      <td>592.307312</td>\n",
       "      <td>187152</td>\n",
       "    </tr>\n",
       "    <tr>\n",
       "      <th>1</th>\n",
       "      <td>2018-06-26</td>\n",
       "      <td>596.049988</td>\n",
       "      <td>601.599976</td>\n",
       "      <td>588.599976</td>\n",
       "      <td>590.599976</td>\n",
       "      <td>586.006653</td>\n",
       "      <td>512878</td>\n",
       "    </tr>\n",
       "    <tr>\n",
       "      <th>2</th>\n",
       "      <td>2018-06-27</td>\n",
       "      <td>591.400024</td>\n",
       "      <td>594.950012</td>\n",
       "      <td>586.150024</td>\n",
       "      <td>590.299988</td>\n",
       "      <td>585.708984</td>\n",
       "      <td>321819</td>\n",
       "    </tr>\n",
       "    <tr>\n",
       "      <th>3</th>\n",
       "      <td>2018-06-28</td>\n",
       "      <td>585.700012</td>\n",
       "      <td>590.000000</td>\n",
       "      <td>574.700012</td>\n",
       "      <td>584.900024</td>\n",
       "      <td>580.351013</td>\n",
       "      <td>507185</td>\n",
       "    </tr>\n",
       "    <tr>\n",
       "      <th>4</th>\n",
       "      <td>2018-06-29</td>\n",
       "      <td>585.250000</td>\n",
       "      <td>596.000000</td>\n",
       "      <td>574.299988</td>\n",
       "      <td>592.750000</td>\n",
       "      <td>588.139954</td>\n",
       "      <td>294532</td>\n",
       "    </tr>\n",
       "  </tbody>\n",
       "</table>\n",
       "</div>"
      ],
      "text/plain": [
       "         Date        Open        High  ...       Close   Adj Close  Volume\n",
       "0  2018-06-25  602.299988  605.599976  ...  596.950012  592.307312  187152\n",
       "1  2018-06-26  596.049988  601.599976  ...  590.599976  586.006653  512878\n",
       "2  2018-06-27  591.400024  594.950012  ...  590.299988  585.708984  321819\n",
       "3  2018-06-28  585.700012  590.000000  ...  584.900024  580.351013  507185\n",
       "4  2018-06-29  585.250000  596.000000  ...  592.750000  588.139954  294532\n",
       "\n",
       "[5 rows x 7 columns]"
      ]
     },
     "execution_count": 79,
     "metadata": {
      "tags": []
     },
     "output_type": "execute_result"
    }
   ],
   "source": [
    "tata.head()"
   ]
  },
  {
   "cell_type": "code",
   "execution_count": 80,
   "metadata": {
    "colab": {
     "base_uri": "https://localhost:8080/",
     "height": 300
    },
    "colab_type": "code",
    "id": "Tk0gBLXFLis1",
    "outputId": "1f7b81c8-29e5-4c1c-a708-77bfd3752324"
   },
   "outputs": [
    {
     "data": {
      "text/html": [
       "<div>\n",
       "<style scoped>\n",
       "    .dataframe tbody tr th:only-of-type {\n",
       "        vertical-align: middle;\n",
       "    }\n",
       "\n",
       "    .dataframe tbody tr th {\n",
       "        vertical-align: top;\n",
       "    }\n",
       "\n",
       "    .dataframe thead th {\n",
       "        text-align: right;\n",
       "    }\n",
       "</style>\n",
       "<table border=\"1\" class=\"dataframe\">\n",
       "  <thead>\n",
       "    <tr style=\"text-align: right;\">\n",
       "      <th></th>\n",
       "      <th>Open</th>\n",
       "      <th>High</th>\n",
       "      <th>Low</th>\n",
       "      <th>Close</th>\n",
       "      <th>Adj Close</th>\n",
       "      <th>Volume</th>\n",
       "    </tr>\n",
       "  </thead>\n",
       "  <tbody>\n",
       "    <tr>\n",
       "      <th>count</th>\n",
       "      <td>244.000000</td>\n",
       "      <td>244.000000</td>\n",
       "      <td>244.000000</td>\n",
       "      <td>244.000000</td>\n",
       "      <td>244.000000</td>\n",
       "      <td>2.440000e+02</td>\n",
       "    </tr>\n",
       "    <tr>\n",
       "      <th>mean</th>\n",
       "      <td>540.051230</td>\n",
       "      <td>548.807787</td>\n",
       "      <td>531.053277</td>\n",
       "      <td>539.533401</td>\n",
       "      <td>539.031326</td>\n",
       "      <td>3.868196e+05</td>\n",
       "    </tr>\n",
       "    <tr>\n",
       "      <th>std</th>\n",
       "      <td>41.462662</td>\n",
       "      <td>40.646994</td>\n",
       "      <td>41.540755</td>\n",
       "      <td>40.696960</td>\n",
       "      <td>40.168641</td>\n",
       "      <td>3.214195e+05</td>\n",
       "    </tr>\n",
       "    <tr>\n",
       "      <th>min</th>\n",
       "      <td>444.000000</td>\n",
       "      <td>459.000000</td>\n",
       "      <td>435.700012</td>\n",
       "      <td>446.450012</td>\n",
       "      <td>446.450012</td>\n",
       "      <td>6.302800e+04</td>\n",
       "    </tr>\n",
       "    <tr>\n",
       "      <th>25%</th>\n",
       "      <td>510.312507</td>\n",
       "      <td>518.737503</td>\n",
       "      <td>500.075004</td>\n",
       "      <td>510.374993</td>\n",
       "      <td>510.374993</td>\n",
       "      <td>2.030820e+05</td>\n",
       "    </tr>\n",
       "    <tr>\n",
       "      <th>50%</th>\n",
       "      <td>534.500000</td>\n",
       "      <td>543.725006</td>\n",
       "      <td>525.350006</td>\n",
       "      <td>532.824982</td>\n",
       "      <td>532.824982</td>\n",
       "      <td>2.938320e+05</td>\n",
       "    </tr>\n",
       "    <tr>\n",
       "      <th>75%</th>\n",
       "      <td>576.262497</td>\n",
       "      <td>584.962524</td>\n",
       "      <td>566.687515</td>\n",
       "      <td>573.474991</td>\n",
       "      <td>572.514343</td>\n",
       "      <td>4.556745e+05</td>\n",
       "    </tr>\n",
       "    <tr>\n",
       "      <th>max</th>\n",
       "      <td>619.349976</td>\n",
       "      <td>627.700012</td>\n",
       "      <td>608.049988</td>\n",
       "      <td>617.700012</td>\n",
       "      <td>617.700012</td>\n",
       "      <td>3.201920e+06</td>\n",
       "    </tr>\n",
       "  </tbody>\n",
       "</table>\n",
       "</div>"
      ],
      "text/plain": [
       "             Open        High         Low       Close   Adj Close        Volume\n",
       "count  244.000000  244.000000  244.000000  244.000000  244.000000  2.440000e+02\n",
       "mean   540.051230  548.807787  531.053277  539.533401  539.031326  3.868196e+05\n",
       "std     41.462662   40.646994   41.540755   40.696960   40.168641  3.214195e+05\n",
       "min    444.000000  459.000000  435.700012  446.450012  446.450012  6.302800e+04\n",
       "25%    510.312507  518.737503  500.075004  510.374993  510.374993  2.030820e+05\n",
       "50%    534.500000  543.725006  525.350006  532.824982  532.824982  2.938320e+05\n",
       "75%    576.262497  584.962524  566.687515  573.474991  572.514343  4.556745e+05\n",
       "max    619.349976  627.700012  608.049988  617.700012  617.700012  3.201920e+06"
      ]
     },
     "execution_count": 80,
     "metadata": {
      "tags": []
     },
     "output_type": "execute_result"
    }
   ],
   "source": [
    "tata.describe()"
   ]
  },
  {
   "cell_type": "code",
   "execution_count": 0,
   "metadata": {
    "colab": {},
    "colab_type": "code",
    "id": "JTnQPHW0Lkps"
   },
   "outputs": [],
   "source": []
  }
 ],
 "metadata": {
  "colab": {
   "collapsed_sections": [],
   "include_colab_link": true,
   "name": "Stock trend analysis.ipynb",
   "provenance": [],
   "toc_visible": true,
   "version": "0.3.2"
  },
  "kernelspec": {
   "display_name": "Python 3",
   "language": "python",
   "name": "python3"
  },
  "language_info": {
   "codemirror_mode": {
    "name": "ipython",
    "version": 3
   },
   "file_extension": ".py",
   "mimetype": "text/x-python",
   "name": "python",
   "nbconvert_exporter": "python",
   "pygments_lexer": "ipython3",
   "version": "3.7.3"
  },
  "toc": {
   "base_numbering": 1,
   "nav_menu": {},
   "number_sections": true,
   "sideBar": true,
   "skip_h1_title": false,
   "title_cell": "Table of Contents",
   "title_sidebar": "Contents",
   "toc_cell": true,
   "toc_position": {},
   "toc_section_display": true,
   "toc_window_display": true
  }
 },
 "nbformat": 4,
 "nbformat_minor": 1
}
